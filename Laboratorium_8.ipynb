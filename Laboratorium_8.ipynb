{
 "cells": [
  {
   "cell_type": "markdown",
   "metadata": {},
   "source": [
    "# Zapytania złożone"
   ]
  },
  {
   "cell_type": "markdown",
   "metadata": {},
   "source": [
    "Przed rozpoczęciem pracy konieczne jest skonfigurowanie bazy oraz załadowanie danych:\n",
    "```ruby\n",
    "$:.unshift \".\"\n",
    "require 'db_setup'\n",
    "require 'db_load'\n",
    "```"
   ]
  },
  {
   "cell_type": "code",
   "execution_count": 1,
   "metadata": {
    "collapsed": false
   },
   "outputs": [
    {
     "name": "stdout",
     "output_type": "stream",
     "text": [
      "==  AddIndicesMigration: migrating ============================================\n",
      "==  AddIndicesMigration: migrated (0.0000s) ===================================\n",
      "\n",
      "................................................................................................."
     ]
    },
    {
     "data": {
      "text/plain": [
       "true"
      ]
     },
     "execution_count": 1,
     "metadata": {},
     "output_type": "execute_result"
    }
   ],
   "source": [
    "$:.unshift \".\"\n",
    "require 'db_setup'\n",
    "require 'db_load'\n"
   ]
  },
  {
   "cell_type": "markdown",
   "metadata": {},
   "source": [
    "W dalszych zadaniach będzie wykonywać polecenia korzystając z następujących klas, zmapowanych na odpowiadające im \n",
    "table w bazie danych:\n",
    "```ruby\n",
    "class Author < ActiveRecord::Base\n",
    "  # name      (string)\n",
    "  # surname   (string)\n",
    "  # born      (datetime) \n",
    "  # died      (datetime)\n",
    "  # image_url (string)\n",
    "  \n",
    "  has_many :books\n",
    "end\n",
    "\n",
    "class Book < ActiveRecord::Base\n",
    "  # title     (string)\n",
    "  # author    (Author)\n",
    "  # published (integer)\n",
    "\n",
    "  belongs_to :author\n",
    "end\n",
    "```"
   ]
  },
  {
   "cell_type": "markdown",
   "metadata": {},
   "source": [
    "ActiveRecord udostępnia interfejs pozwalający wyszukiwać dane w bazie również z wykorzystaniem związków zdefiniowanych pomiędzy\n",
    "klasami. Do definiowania tych związków służą polecenia `has_many`, `belongs_to`, `has_one` oraz `has_and_belongs_to_many`.\n",
    "Przykładowo jeśli chcemy dowiedzieć się kto był autorem pierwszej książki wykonujemy zapytanie:\n",
    "```ruby\n",
    "book = Book.first\n",
    "puts book.title\n",
    "puts book.author\n",
    "```"
   ]
  },
  {
   "cell_type": "code",
   "execution_count": 2,
   "metadata": {
    "collapsed": false
   },
   "outputs": [
    {
     "name": "stdout",
     "output_type": "stream",
     "text": [
      "Végjáték (regény)\n",
      "#<Author:0x000000031fe250>\n"
     ]
    }
   ],
   "source": [
    "book = Book.first\n",
    "puts book.title\n",
    "puts book.author\n"
   ]
  },
  {
   "cell_type": "markdown",
   "metadata": {},
   "source": [
    "Niestety prezentowany wynik nie jest zbyt użyteczny. Ponieważ jednak metoda `author` zwraca obiekt, możemy na nim wywoływać \n",
    "metody - tak samo jak w przypadku autora załadowanego bezpośrednio z wykorzystaniem metod zdefiniowanych dla klasy `Author`\n",
    "```ruby\n",
    "book = Book.first\n",
    "puts book.title\n",
    "puts \"#{book.author.name} #{book.author.surname}\"\n",
    "```"
   ]
  },
  {
   "cell_type": "code",
   "execution_count": 3,
   "metadata": {
    "collapsed": false
   },
   "outputs": [
    {
     "name": "stdout",
     "output_type": "stream",
     "text": [
      "Végjáték (regény)\n",
      "Orson Scott Card\n"
     ]
    }
   ],
   "source": [
    "book = Book.first\n",
    "puts book.title\n",
    "puts \"#{book.author.name} #{book.author.surname}\"\n"
   ]
  },
  {
   "cell_type": "markdown",
   "metadata": {},
   "source": [
    "Co więcej, jeśli mamy do czynienia ze związkiem jeden-do-wiele bądź wiele-do-wiele, możemy wywyływać wszystkie dotychczas poznane \n",
    "metody na kolekcji powiązanych obiektów. Istotnie ułatwia to wyszukiwanie potrzebnych danych:\n",
    "```ruby\n",
    "books = Book.where(\"title like 'A%'\")\n",
    "books.each do |book|\n",
    "  puts book.title\n",
    "end\n",
    "\n",
    "author = Author.where(surname: \"Tołstoj\").first\n",
    "books = author.books.where(\"title like 'A%'\")\n",
    "books.each do |book|\n",
    "  puts book.title\n",
    "end\n",
    "```"
   ]
  },
  {
   "cell_type": "code",
   "execution_count": 4,
   "metadata": {
    "collapsed": false
   },
   "outputs": [
    {
     "name": "stdout",
     "output_type": "stream",
     "text": [
      "Anna Karenina\n",
      "Azazel (powieść)\n",
      "Anna Karenina\n"
     ]
    },
    {
     "data": {
      "text/plain": [
       "[#<Book id: 33, title: \"Anna Karenina\", language: nil, author_id: 35, published: 1877, image_url: \"http://commons.wikimedia.org/wiki/Special:FilePath...\">]"
      ]
     },
     "execution_count": 4,
     "metadata": {},
     "output_type": "execute_result"
    }
   ],
   "source": [
    "books = Book.where(\"title like 'A%'\")\n",
    "books.each do |book|\n",
    "  puts book.title\n",
    "end\n",
    "\n",
    "author = Author.where(surname: \"Tołstoj\").first\n",
    "books = author.books.where(\"title like 'A%'\")\n",
    "books.each do |book|\n",
    "  puts book.title\n",
    "end\n"
   ]
  },
  {
   "cell_type": "markdown",
   "metadata": {},
   "source": [
    "Różnica pomiędzy tymi zapytaniami polega na tym, że w pierwszym przypadku szukamy książki, których tytuł zaczyna się na \"A\" \n",
    "w całym zbiorze książek, a w drugi przypadku wśród książek napisanych przez Tołstoja."
   ]
  },
  {
   "cell_type": "markdown",
   "metadata": {},
   "source": [
    "Aby umożliwić formatowanie wyników zapytania, IRuby udostępnia metodę `IRuby.html`, która pozwala na wyświetlanie kodu\n",
    "HTML. Przykładowo\n",
    "```ruby\n",
    "IRuby.html \"<h1>Test HTML-a</h1>\"\n",
    "```"
   ]
  },
  {
   "cell_type": "code",
   "execution_count": 5,
   "metadata": {
    "collapsed": false
   },
   "outputs": [
    {
     "data": {
      "text/html": [
       "<h1>Test HTML-a</h1>"
      ],
      "text/plain": [
       "\"<h1>Test HTML-a</h1>\""
      ]
     },
     "execution_count": 5,
     "metadata": {},
     "output_type": "execute_result"
    }
   ],
   "source": [
    "IRuby.html \"<h1>Test HTML-a</h1>\"\n"
   ]
  },
  {
   "cell_type": "markdown",
   "metadata": {},
   "source": [
    "Dzięki temu będziemy mogli formatować wyniki zapytań, a wszczególności wyświetlać obrazy przedstwiające autorów oraz książki. \n",
    "Należy jednak wziąć pod uwagę, że nie wszystkie książki oraz nie wszyscy autorzy posiadają odpowiadające im obrazki.\n",
    "Aby wyświetlić imię, nazwisko oraz obraz pierwszego autora piszemy:\n",
    "```ruby\n",
    "author = Author.where(\"image_url is not null\").first\n",
    "IRuby.html \"<h1>#{author.name} #{author.surname}</h1><img src='#{author.image_url}'/>\"\n",
    "```"
   ]
  },
  {
   "cell_type": "code",
   "execution_count": 6,
   "metadata": {
    "collapsed": false
   },
   "outputs": [
    {
     "data": {
      "text/html": [
       "<h1>Orson Scott Card</h1><img src='http://commons.wikimedia.org/wiki/Special:FilePath/Orson_Scott_Card_at_BYU_Symposium_20080216_closeup.jpg?width=300'/>"
      ],
      "text/plain": [
       "\"<h1>Orson Scott Card</h1><img src='http://commons.wikimedia.org/wiki/Special:FilePath/Orson_Scott_Card_at_BYU_Symposium_20080216_closeup.jpg?width=300'/>\""
      ]
     },
     "execution_count": 6,
     "metadata": {},
     "output_type": "execute_result"
    }
   ],
   "source": [
    "author = Author.where(\"image_url is not null\").first\n",
    "IRuby.html \"<h1>#{author.name} #{author.surname}</h1><img src='#{author.image_url}'/>\"\n"
   ]
  },
  {
   "cell_type": "markdown",
   "metadata": {},
   "source": [
    "Możemy również zdefniować funkcję, np. `display_author`, której zadaniem będzie wyświetlenie autora w tej postaci. \n",
    "Jedyny problem polega na tym, że funkcja `IRuby.html` może być wywoływana tylko raz. Dlatego jeśli chcemy wyświetlić kilku autorów,\n",
    "musimy połączyć odpowiadające im kody HTML i wynik przekazać do funkcji `html`\n",
    "```ruby\n",
    "def display_author(author)\n",
    "  \"<h1>#{author.name} #{author.surname}</h1><img src='#{author.image_url}'/>\"\n",
    "end\n",
    "\n",
    "author_1 = Author.where(\"image_url is not null\").first\n",
    "author_2 = Author.where(\"image_url is not null\").offset(1).first\n",
    "document = display_author(author_1)\n",
    "document += display_author(author_2)\n",
    "IRuby.html document\n",
    "```"
   ]
  },
  {
   "cell_type": "code",
   "execution_count": 7,
   "metadata": {
    "collapsed": false
   },
   "outputs": [
    {
     "data": {
      "text/html": [
       "<h1>Orson Scott Card</h1><img src='http://commons.wikimedia.org/wiki/Special:FilePath/Orson_Scott_Card_at_BYU_Symposium_20080216_closeup.jpg?width=300'/><h1>Andrzej Sapkowski</h1><img src='http://commons.wikimedia.org/wiki/Special:FilePath/Sapkowski.jpg?width=300'/>"
      ],
      "text/plain": [
       "\"<h1>Orson Scott Card</h1><img src='http://commons.wikimedia.org/wiki/Special:FilePath/Orson_Scott_Card_at_BYU_Symposium_20080216_closeup.jpg?width=300'/><h1>Andrzej Sapkowski</h1><img src='http://commons.wikimedia.org/wiki/Special:FilePath/Sapkowski.jpg?width=300'/>\""
      ]
     },
     "execution_count": 7,
     "metadata": {},
     "output_type": "execute_result"
    }
   ],
   "source": [
    "def display_author(author)\n",
    "  \"<h1>#{author.name} #{author.surname}</h1><img src='#{author.image_url}'/>\"\n",
    "end\n",
    "\n",
    "author_1 = Author.where(\"image_url is not null\").first\n",
    "author_2 = Author.where(\"image_url is not null\").offset(1).first\n",
    "document = display_author(author_1)\n",
    "document += display_author(author_2)\n",
    "IRuby.html document\n"
   ]
  },
  {
   "cell_type": "markdown",
   "metadata": {},
   "source": [
    "## Zadania"
   ]
  },
  {
   "cell_type": "markdown",
   "metadata": {},
   "source": [
    "### Zadanie 1"
   ]
  },
  {
   "cell_type": "markdown",
   "metadata": {},
   "source": [
    "Wyświetl wszystkich autorów, którzy urodzili się przed rokiem 1900."
   ]
  },
  {
   "cell_type": "code",
   "execution_count": 15,
   "metadata": {
    "collapsed": false
   },
   "outputs": [
    {
     "name": "stdout",
     "output_type": "stream",
     "text": [
      "Adam Mickiewicz, born: 1798-12-24\n",
      "Eliza Orzeszkowa, born: 1841-06-06\n",
      "Juliusz Słowacki, born: 1809-06-06\n",
      "Henryk Sienkiewicz, born: 1846-06-06\n",
      "Jack London, born: 1876-01-12\n",
      "Mikołaj Kopernik, born: 1473-02-19\n",
      "Maria Franciszka Kozłowska, born: 1862-05-27\n",
      "William Szekspir, born: 1564-04-23\n",
      "John Ronald Reuel Tolkien, born: 1892-01-03\n",
      "Aleksander Dumas (ojciec), born: 1802-07-24\n",
      "Tadeusz Dołęga-Mostowicz, born: 1898-08-10\n",
      "Vladimir Nabokov, born: 1899-04-22\n",
      "Adolf Hitler, born: 1889-04-20\n",
      "Benedykt Chmielowski, born: 1700-03-20\n",
      "Aldous Huxley, born: 1894-07-26\n",
      "Honoré de Balzac, born: 1799-05-20\n",
      "Franz Kafka, born: 1883-07-03\n",
      "Howard Phillips Lovecraft, born: 1890-08-20\n",
      "Lew Tołstoj, born: 1828-09-09\n",
      "Ilja Ilf, born: 1897-10-15\n",
      "Gabriela Zapolska, born: 1857-03-30\n",
      "Clive Staples Lewis, born: 1898-11-29\n",
      "Iwan Turgieniew, born: 1818-11-09\n",
      "Lucy Maud Montgomery, born: 1874-11-30\n",
      "Aleksander Majkowski, born: 1876-07-17\n"
     ]
    },
    {
     "data": {
      "text/plain": [
       "[#<Author id: 1, name: \"Adam\", surname: \"Mickiewicz\", born: \"1798-12-24\", died: \"1855-11-26\", image_url: nil>, #<Author id: 3, name: \"Eliza\", surname: \"Orzeszkowa\", born: \"1841-06-06\", died: \"1910-11-18\", image_url: nil>, #<Author id: 4, name: \"Juliusz\", surname: \"Słowacki\", born: \"1809-06-06\", died: \"1849-11-18\", image_url: nil>, #<Author id: 5, name: \"Henryk\", surname: \"Sienkiewicz\", born: \"1846-06-06\", died: \"1916-11-18\", image_url: nil>, #<Author id: 13, name: \"Jack\", surname: \"London\", born: \"1876-01-12\", died: \"1916-11-22\", image_url: \"http://commons.wikimedia.org/wiki/Special:FilePath...\">, #<Author id: 17, name: \"Mikołaj\", surname: \"Kopernik\", born: \"1473-02-19\", died: \"1543-05-24\", image_url: \"http://commons.wikimedia.org/wiki/Special:FilePath...\">, #<Author id: 18, name: \"Maria Franciszka\", surname: \"Kozłowska\", born: \"1862-05-27\", died: nil, image_url: \"http://commons.wikimedia.org/wiki/Special:FilePath...\">, #<Author id: 20, name: \"William\", surname: \"Szekspir\", born: \"1564-04-23\", died: \"1616-05-03\", image_url: \"http://commons.wikimedia.org/wiki/Special:FilePath...\">, #<Author id: 22, name: \"John Ronald Reuel\", surname: \"Tolkien\", born: \"1892-01-03\", died: \"1973-09-02\", image_url: \"http://commons.wikimedia.org/wiki/Special:FilePath...\">, #<Author id: 23, name: \"Aleksander Dumas\", surname: \"(ojciec)\", born: \"1802-07-24\", died: \"1870-12-05\", image_url: \"http://commons.wikimedia.org/wiki/Special:FilePath...\">, #<Author id: 24, name: \"Tadeusz\", surname: \"Dołęga-Mostowicz\", born: \"1898-08-10\", died: \"1939-09-20\", image_url: \"http://commons.wikimedia.org/wiki/Special:FilePath...\">, #<Author id: 25, name: \"Vladimir\", surname: \"Nabokov\", born: \"1899-04-22\", died: \"1977-07-02\", image_url: \"http://commons.wikimedia.org/wiki/Special:FilePath...\">, #<Author id: 26, name: \"Adolf\", surname: \"Hitler\", born: \"1889-04-20\", died: \"1945-04-30\", image_url: \"http://commons.wikimedia.org/wiki/Special:FilePath...\">, #<Author id: 28, name: \"Benedykt\", surname: \"Chmielowski\", born: \"1700-03-20\", died: \"1763-04-07\", image_url: \"http://commons.wikimedia.org/wiki/Special:FilePath...\">, #<Author id: 29, name: \"Aldous\", surname: \"Huxley\", born: \"1894-07-26\", died: \"1963-11-22\", image_url: \"http://commons.wikimedia.org/wiki/Special:FilePath...\">, #<Author id: 30, name: \"Honoré de\", surname: \"Balzac\", born: \"1799-05-20\", died: \"1850-08-18\", image_url: \"http://commons.wikimedia.org/wiki/Special:FilePath...\">, #<Author id: 31, name: \"Franz\", surname: \"Kafka\", born: \"1883-07-03\", died: \"1924-06-03\", image_url: \"http://commons.wikimedia.org/wiki/Special:FilePath...\">, #<Author id: 33, name: \"Howard Phillips\", surname: \"Lovecraft\", born: \"1890-08-20\", died: \"1937-03-15\", image_url: \"http://commons.wikimedia.org/wiki/Special:FilePath...\">, #<Author id: 35, name: \"Lew\", surname: \"Tołstoj\", born: \"1828-09-09\", died: \"1910-11-20\", image_url: \"http://commons.wikimedia.org/wiki/Special:FilePath...\">, #<Author id: 40, name: \"Ilja\", surname: \"Ilf\", born: \"1897-10-15\", died: \"1937-04-13\", image_url: \"http://commons.wikimedia.org/wiki/Special:FilePath...\">, #<Author id: 42, name: \"Gabriela\", surname: \"Zapolska\", born: \"1857-03-30\", died: \"1921-12-17\", image_url: \"http://commons.wikimedia.org/wiki/Special:FilePath...\">, #<Author id: 45, name: \"Clive Staples\", surname: \"Lewis\", born: \"1898-11-29\", died: \"1963-11-22\", image_url: \"http://commons.wikimedia.org/wiki/Special:FilePath...\">, #<Author id: 48, name: \"Iwan\", surname: \"Turgieniew\", born: \"1818-11-09\", died: \"1883-09-03\", image_url: \"http://commons.wikimedia.org/wiki/Special:FilePath...\">, #<Author id: 51, name: \"Lucy Maud\", surname: \"Montgomery\", born: \"1874-11-30\", died: \"1942-04-24\", image_url: \"http://commons.wikimedia.org/wiki/Special:FilePath...\">, #<Author id: 57, name: \"Aleksander\", surname: \"Majkowski\", born: \"1876-07-17\", died: \"1938-02-10\", image_url: \"http://commons.wikimedia.org/wiki/Special:FilePath...\">]"
      ]
     },
     "execution_count": 15,
     "metadata": {},
     "output_type": "execute_result"
    }
   ],
   "source": [
    "authors = Author.where(born: (Date.parse(\"0000-1-1\"))..Date.parse(\"1900-1-1\"))\n",
    "authors.each do |author|\n",
    "  puts author.name + \" \" + author.surname + \", \" + \"born: \" + author.born.to_s\n",
    "end"
   ]
  },
  {
   "cell_type": "markdown",
   "metadata": {},
   "source": [
    "### Zadanie 2"
   ]
  },
  {
   "cell_type": "markdown",
   "metadata": {},
   "source": [
    "Zmodyfikuj funkcję wyświetlającą autorów tak aby obejmowała ich datę urodzin i śmierci w formacie `dzień.miesiąc.rok`. Następnie wyświetl wszystkich autorów,\n",
    "którzy zmarli w XX wieku."
   ]
  },
  {
   "cell_type": "code",
   "execution_count": 22,
   "metadata": {
    "collapsed": false
   },
   "outputs": [
    {
     "name": "stdout",
     "output_type": "stream",
     "text": [
      "Eliza Orzeszkowa, born: 06-06-1841, died: 18-11-1910\n",
      "Henryk Sienkiewicz, born: 06-06-1846, died: 18-11-1916\n",
      "Jack London, born: 12-01-1876, died: 22-11-1916\n",
      "Antoni Gołubiew, born: 25-02-1907, died: 27-06-1979\n",
      "George Orwell, born: 25-06-1903, died: 21-01-1950\n",
      "John Ronald Reuel Tolkien, born: 03-01-1892, died: 02-09-1973\n",
      "Tadeusz Dołęga-Mostowicz, born: 10-08-1898, died: 20-09-1939\n",
      "Vladimir Nabokov, born: 22-04-1899, died: 02-07-1977\n",
      "Adolf Hitler, born: 20-04-1889, died: 30-04-1945\n",
      "Aldous Huxley, born: 26-07-1894, died: 22-11-1963\n",
      "Franz Kafka, born: 03-07-1883, died: 03-06-1924\n",
      "Howard Phillips Lovecraft, born: 20-08-1890, died: 15-03-1937\n",
      "Karol Olgierd Borchardt, born: 25-03-1905, died: 20-05-1986\n",
      "Lew Tołstoj, born: 09-09-1828, died: 20-11-1910\n",
      "Janusz Zajdel, born: 15-08-1938, died: 19-07-1985\n",
      "Isaac Asimov, born: 04-10-1919, died: 06-04-1992\n",
      "Ilja Ilf, born: 15-10-1897, died: 13-04-1937\n",
      "Jewgienij Pietrow (pisarz), born: 13-12-1903, died: 02-07-1942\n",
      "Gabriela Zapolska, born: 30-03-1857, died: 17-12-1921\n",
      "Clive Staples Lewis, born: 29-11-1898, died: 22-11-1963\n",
      "Lucy Maud Montgomery, born: 30-11-1874, died: 24-04-1942\n",
      "Alfred Szklarski, born: 21-01-1912, died: 09-04-1992\n",
      "Aleksander Majkowski, born: 17-07-1876, died: 10-02-1938\n",
      "Ian Fleming, born: 28-05-1908, died: 12-08-1964\n"
     ]
    },
    {
     "data": {
      "text/plain": [
       "[#<Author id: 3, name: \"Eliza\", surname: \"Orzeszkowa\", born: \"1841-06-06\", died: \"1910-11-18\", image_url: nil>, #<Author id: 5, name: \"Henryk\", surname: \"Sienkiewicz\", born: \"1846-06-06\", died: \"1916-11-18\", image_url: nil>, #<Author id: 13, name: \"Jack\", surname: \"London\", born: \"1876-01-12\", died: \"1916-11-22\", image_url: \"http://commons.wikimedia.org/wiki/Special:FilePath...\">, #<Author id: 16, name: \"Antoni\", surname: \"Gołubiew\", born: \"1907-02-25\", died: \"1979-06-27\", image_url: \"http://commons.wikimedia.org/wiki/Special:FilePath...\">, #<Author id: 19, name: \"George\", surname: \"Orwell\", born: \"1903-06-25\", died: \"1950-01-21\", image_url: \"http://commons.wikimedia.org/wiki/Special:FilePath...\">, #<Author id: 22, name: \"John Ronald Reuel\", surname: \"Tolkien\", born: \"1892-01-03\", died: \"1973-09-02\", image_url: \"http://commons.wikimedia.org/wiki/Special:FilePath...\">, #<Author id: 24, name: \"Tadeusz\", surname: \"Dołęga-Mostowicz\", born: \"1898-08-10\", died: \"1939-09-20\", image_url: \"http://commons.wikimedia.org/wiki/Special:FilePath...\">, #<Author id: 25, name: \"Vladimir\", surname: \"Nabokov\", born: \"1899-04-22\", died: \"1977-07-02\", image_url: \"http://commons.wikimedia.org/wiki/Special:FilePath...\">, #<Author id: 26, name: \"Adolf\", surname: \"Hitler\", born: \"1889-04-20\", died: \"1945-04-30\", image_url: \"http://commons.wikimedia.org/wiki/Special:FilePath...\">, #<Author id: 29, name: \"Aldous\", surname: \"Huxley\", born: \"1894-07-26\", died: \"1963-11-22\", image_url: \"http://commons.wikimedia.org/wiki/Special:FilePath...\">, #<Author id: 31, name: \"Franz\", surname: \"Kafka\", born: \"1883-07-03\", died: \"1924-06-03\", image_url: \"http://commons.wikimedia.org/wiki/Special:FilePath...\">, #<Author id: 33, name: \"Howard Phillips\", surname: \"Lovecraft\", born: \"1890-08-20\", died: \"1937-03-15\", image_url: \"http://commons.wikimedia.org/wiki/Special:FilePath...\">, #<Author id: 34, name: \"Karol Olgierd\", surname: \"Borchardt\", born: \"1905-03-25\", died: \"1986-05-20\", image_url: \"http://commons.wikimedia.org/wiki/Special:FilePath...\">, #<Author id: 35, name: \"Lew\", surname: \"Tołstoj\", born: \"1828-09-09\", died: \"1910-11-20\", image_url: \"http://commons.wikimedia.org/wiki/Special:FilePath...\">, #<Author id: 37, name: \"Janusz\", surname: \"Zajdel\", born: \"1938-08-15\", died: \"1985-07-19\", image_url: \"http://commons.wikimedia.org/wiki/Special:FilePath...\">, #<Author id: 39, name: \"Isaac\", surname: \"Asimov\", born: \"1919-10-04\", died: \"1992-04-06\", image_url: \"http://commons.wikimedia.org/wiki/Special:FilePath...\">, #<Author id: 40, name: \"Ilja\", surname: \"Ilf\", born: \"1897-10-15\", died: \"1937-04-13\", image_url: \"http://commons.wikimedia.org/wiki/Special:FilePath...\">, #<Author id: 41, name: \"Jewgienij Pietrow\", surname: \"(pisarz)\", born: \"1903-12-13\", died: \"1942-07-02\", image_url: \"http://commons.wikimedia.org/wiki/Special:FilePath...\">, #<Author id: 42, name: \"Gabriela\", surname: \"Zapolska\", born: \"1857-03-30\", died: \"1921-12-17\", image_url: \"http://commons.wikimedia.org/wiki/Special:FilePath...\">, #<Author id: 45, name: \"Clive Staples\", surname: \"Lewis\", born: \"1898-11-29\", died: \"1963-11-22\", image_url: \"http://commons.wikimedia.org/wiki/Special:FilePath...\">, #<Author id: 51, name: \"Lucy Maud\", surname: \"Montgomery\", born: \"1874-11-30\", died: \"1942-04-24\", image_url: \"http://commons.wikimedia.org/wiki/Special:FilePath...\">, #<Author id: 53, name: \"Alfred\", surname: \"Szklarski\", born: \"1912-01-21\", died: \"1992-04-09\", image_url: \"http://commons.wikimedia.org/wiki/Special:FilePath...\">, #<Author id: 57, name: \"Aleksander\", surname: \"Majkowski\", born: \"1876-07-17\", died: \"1938-02-10\", image_url: \"http://commons.wikimedia.org/wiki/Special:FilePath...\">, #<Author id: 58, name: \"Ian\", surname: \"Fleming\", born: \"1908-05-28\", died: \"1964-08-12\", image_url: \"http://commons.wikimedia.org/wiki/Special:FilePath...\">]"
      ]
     },
     "execution_count": 22,
     "metadata": {},
     "output_type": "execute_result"
    }
   ],
   "source": [
    "authors = Author.where(died: (Date.parse(\"1900-1-1\"))..Date.parse(\"1999-12-31\"))\n",
    "authors.each do |author|\n",
    "  puts author.name + \" \" + author.surname + \", \" + \"born: \" + author.born.strftime(\"%d-%m-%Y\") + \", died: \" + author.died.strftime(\"%d-%m-%Y\")\n",
    "end"
   ]
  },
  {
   "cell_type": "markdown",
   "metadata": {},
   "source": [
    "### Zadanie 3"
   ]
  },
  {
   "cell_type": "markdown",
   "metadata": {},
   "source": [
    "Wyświetl 5 najmłodszych autorów, którzy posiadają przypisane zdjęcie."
   ]
  },
  {
   "cell_type": "code",
   "execution_count": 47,
   "metadata": {
    "collapsed": false
   },
   "outputs": [
    {
     "data": {
      "text/html": [
       "<h1>Andrzej Pilipiuk, born: 1974-03-20 </h1><img src='http://commons.wikimedia.org/wiki/Special:FilePath/Andrzej_Pilipiuk-Polcon2006.jpg?width=300'/><h1>J. K. Rowling, born: 1965-07-31 </h1><img src='http://commons.wikimedia.org/wiki/Special:FilePath/J._K._Rowling_2010.jpg?width=300'/><h1>Rafał A. Ziemkiewicz, born: 1964-09-13 </h1><img src='http://commons.wikimedia.org/wiki/Special:FilePath/Rafał_Ziemkiewicz.jpg?width=300'/><h1>Boris Akunin, born: 1956-05-20 </h1><img src='http://commons.wikimedia.org/wiki/Special:FilePath/Boris_Akunin_2012.jpg?width=300'/><h1>Orson Scott Card, born: 1951-08-24 </h1><img src='http://commons.wikimedia.org/wiki/Special:FilePath/Orson_Scott_Card_at_BYU_Symposium_20080216_closeup.jpg?width=300'/>"
      ],
      "text/plain": [
       "\"<h1>Andrzej Pilipiuk, born: 1974-03-20 </h1><img src='http://commons.wikimedia.org/wiki/Special:FilePath/Andrzej_Pilipiuk-Polcon2006.jpg?width=300'/><h1>J. K. Rowling, born: 1965-07-31 </h1><img src='http://commons.wikimedia.org/wiki/Special:FilePath/J._K._Rowling_2010.jpg?width=300'/><h1>Rafał A. Ziemkiewicz, born: 1964-09-13 </h1><img src='http://commons.wikimedia.org/wiki/Special:FilePath/Rafał_Ziemkiewicz.jpg?width=300'/><h1>Boris Akunin, born: 1956-05-20 </h1><img src='http://commons.wikimedia.org/wiki/Special:FilePath/Boris_Akunin_2012.jpg?width=300'/><h1>Orson Scott Card, born: 1951-08-24 </h1><img src='http://commons.wikimedia.org/wiki/Special:FilePath/Orson_Scott_Card_at_BYU_Symposium_20080216_closeup.jpg?width=300'/>\""
      ]
     },
     "execution_count": 47,
     "metadata": {},
     "output_type": "execute_result"
    }
   ],
   "source": [
    "def display_author(author)\n",
    "  \"<h1>#{author.name} #{author.surname}, born: #{author.born} </h1><img src='#{author.image_url}'/>\"\n",
    "end\n",
    "authors = Author.where(\"image_url is not null\").order(born: :desc).limit(5)\n",
    "\n",
    "doc1 = \"\"\n",
    "\n",
    "authors.each do |author|\n",
    "  doc1 << display_author(author)\n",
    "end\n",
    "\n",
    "IRuby.html doc1\n"
   ]
  },
  {
   "cell_type": "markdown",
   "metadata": {},
   "source": [
    "### Zadanie 4"
   ]
  },
  {
   "cell_type": "markdown",
   "metadata": {},
   "source": [
    "Zdefiniuj funkcję `display_book`, która będzie zwracała fragment kodu HTML obejmujący tytuł książki, rok jej wydania oraz\n",
    "przypisany obrazek.\n",
    "Wyświetl najwcześniej wydaną książkę."
   ]
  },
  {
   "cell_type": "code",
   "execution_count": 49,
   "metadata": {
    "collapsed": false
   },
   "outputs": [
    {
     "data": {
      "text/html": [
       " <h1>Hamlet </h1><img src='http://commons.wikimedia.org/wiki/Special:FilePath/Hamlet_quarto_3rd.jpg?width=300'/>"
      ],
      "text/plain": [
       "\" <h1>Hamlet </h1><img src='http://commons.wikimedia.org/wiki/Special:FilePath/Hamlet_quarto_3rd.jpg?width=300'/>\""
      ]
     },
     "execution_count": 49,
     "metadata": {},
     "output_type": "execute_result"
    }
   ],
   "source": [
    "def display_book(book)\n",
    "  \"<h1>#{book.title} #{book.published}</h1><img src='#{book.image_url}'/>\"\n",
    "end\n",
    "\n",
    "doc2 = \" \"\n",
    "book = Book.where(\"image_url is not null\").order(:published).first\n",
    "doc2 << display_book(book)\n",
    "\n",
    "IRuby.html doc2"
   ]
  },
  {
   "cell_type": "markdown",
   "metadata": {},
   "source": [
    "### Zadanie 5"
   ]
  },
  {
   "cell_type": "markdown",
   "metadata": {},
   "source": [
    "Wyświetl wszystkie książki, które nie mają przypisanego roku wydania."
   ]
  },
  {
   "cell_type": "code",
   "execution_count": 61,
   "metadata": {
    "collapsed": false
   },
   "outputs": [
    {
     "data": {
      "text/html": [
       "<h1>Végjáték (regény) </h1><h1>Hamlet </h1>"
      ],
      "text/plain": [
       "\"<h1>Végjáték (regény) </h1><h1>Hamlet </h1>\""
      ]
     },
     "execution_count": 61,
     "metadata": {},
     "output_type": "execute_result"
    }
   ],
   "source": [
    "def display_book(book)\n",
    "  \"<h1>#{book.title} #{book.published}</h1>\"\n",
    "end\n",
    "\n",
    "books = Book.where(\"published is null\")\n",
    "doc3 = \"\"\n",
    "\n",
    "books.each do |book|\n",
    "  doc3 << display_book(book)\n",
    "end\n",
    "\n",
    "IRuby.html doc3\n",
    "\n",
    "\n"
   ]
  },
  {
   "cell_type": "markdown",
   "metadata": {},
   "source": [
    "### Zadanie 6"
   ]
  },
  {
   "cell_type": "markdown",
   "metadata": {},
   "source": [
    "Zmodyfikuj funkcję `display_author` tak, aby wyświetlała również wszystkie książki napisane przez autora. Użyj znacznika `<ul>`.\n",
    "Korzystając z tej funkcji wyświetl opis Stanisława Lema."
   ]
  },
  {
   "cell_type": "code",
   "execution_count": 68,
   "metadata": {
    "collapsed": false
   },
   "outputs": [
    {
     "data": {
      "text/html": [
       "<h1>Stanisław Lem</h1><img src='http://commons.wikimedia.org/wiki/Special:FilePath/Stanislaw_Lem_2.jpg?width=300'/><ul>Books:<li>Bajki robotów</li><li>Solaris (powieść)</li><li>Bezsenność (zbiór opowiadań)</li><li>Głos Pana</li><li>Inwazja z Aldebarana (zbiór opowiadań)</li><li>Katar (powieść)</li><li>Księga robotów</li><li>Maska (zbiór dzieł)</li><li>Niezwyciężony i inne opowiadania</li><li>Noc księżycowa</li><li>Pamiętnik znaleziony w wannie</li><li>Polowanie (zbiór opowiadań)</li><li>Powtórka (zbiór dzieł)</li><li>Pożytek ze smoka</li><li>Rasa drapieżców. Teksty ostatnie</li><li>Sezam i inne opowiadania</li><li>Summa technologiae</li><li>Wizja lokalna (powieść)</li></ul>"
      ],
      "text/plain": [
       "\"<h1>Stanisław Lem</h1><img src='http://commons.wikimedia.org/wiki/Special:FilePath/Stanislaw_Lem_2.jpg?width=300'/><ul>Books:<li>Bajki robotów</li><li>Solaris (powieść)</li><li>Bezsenność (zbiór opowiadań)</li><li>Głos Pana</li><li>Inwazja z Aldebarana (zbiór opowiadań)</li><li>Katar (powieść)</li><li>Księga robotów</li><li>Maska (zbiór dzieł)</li><li>Niezwyciężony i inne opowiadania</li><li>Noc księżycowa</li><li>Pamiętnik znaleziony w wannie</li><li>Polowanie (zbiór opowiadań)</li><li>Powtórka (zbiór dzieł)</li><li>Pożytek ze smoka</li><li>Rasa drapieżców. Teksty ostatnie</li><li>Sezam i inne opowiadania</li><li>Summa technologiae</li><li>Wizja lokalna (powieść)</li></ul>\""
      ]
     },
     "execution_count": 68,
     "metadata": {},
     "output_type": "execute_result"
    }
   ],
   "source": [
    "def display_author(author)\n",
    "  doc = \"<h1>#{author.name} #{author.surname}</h1><img src='#{author.image_url}'/>\"\n",
    "  doc << \"<ul>Books:\"\n",
    "  author.books.each do |book|\n",
    "   doc << \"<li>#{book.title}</li>\"\n",
    "  end\n",
    "  doc << \"</ul>\"\n",
    "end\n",
    "\n",
    "author = Author.where(surname: \"Lem\").first\n",
    "doc = display_author(author)\n",
    "\n",
    "IRuby.html doc\n",
    "\n"
   ]
  },
  {
   "cell_type": "markdown",
   "metadata": {},
   "source": [
    "### Zadanie 7"
   ]
  },
  {
   "cell_type": "markdown",
   "metadata": {},
   "source": [
    "Wśród książek napisanych przez Lema wyświetl wszystkie, które zawieraja w tytule słowo \"zbiór\"."
   ]
  },
  {
   "cell_type": "code",
   "execution_count": 83,
   "metadata": {
    "collapsed": false
   },
   "outputs": [
    {
     "data": {
      "text/html": [
       "<h1>Stanisław Lem</h1><img src='http://commons.wikimedia.org/wiki/Special:FilePath/Stanislaw_Lem_2.jpg?width=300'/><ul>Books:<li>Bezsenność (zbiór opowiadań)</li><li>Inwazja z Aldebarana (zbiór opowiadań)</li><li>Maska (zbiór dzieł)</li><li>Polowanie (zbiór opowiadań)</li><li>Powtórka (zbiór dzieł)</li></ul>"
      ],
      "text/plain": [
       "\"<h1>Stanisław Lem</h1><img src='http://commons.wikimedia.org/wiki/Special:FilePath/Stanislaw_Lem_2.jpg?width=300'/><ul>Books:<li>Bezsenność (zbiór opowiadań)</li><li>Inwazja z Aldebarana (zbiór opowiadań)</li><li>Maska (zbiór dzieł)</li><li>Polowanie (zbiór opowiadań)</li><li>Powtórka (zbiór dzieł)</li></ul>\""
      ]
     },
     "execution_count": 83,
     "metadata": {},
     "output_type": "execute_result"
    }
   ],
   "source": [
    "def display_author(author)\n",
    "  doc = \"<h1>#{author.name} #{author.surname}</h1><img src='#{author.image_url}'/>\"\n",
    "  doc << \"<ul>Books:\"\n",
    "  author.books.each do |book|\n",
    "    if book.title =~ /zbiór/\n",
    "      doc << \"<li>#{book.title}</li>\"\n",
    "    end\n",
    "  end\n",
    "  doc << \"</ul>\"\n",
    "end\n",
    "\n",
    "author = Author.where(surname: \"Lem\").first\n",
    "doc = display_author(author)\n",
    "\n",
    "IRuby.html doc\n",
    "\n"
   ]
  },
  {
   "cell_type": "markdown",
   "metadata": {},
   "source": [
    "### Zadanie 8"
   ]
  },
  {
   "cell_type": "markdown",
   "metadata": {},
   "source": [
    "Wśród książek napisanych przez Lema wyświetl te, które zostały wydane w roku jego śmierci."
   ]
  },
  {
   "cell_type": "code",
   "execution_count": 74,
   "metadata": {
    "collapsed": false
   },
   "outputs": [
    {
     "data": {
      "text/html": [
       "<h1>Stanisław Lem</h1><img src='http://commons.wikimedia.org/wiki/Special:FilePath/Stanislaw_Lem_2.jpg?width=300'/><ul>Books:<li>Rasa drapieżców. Teksty ostatnie</li></ul>"
      ],
      "text/plain": [
       "\"<h1>Stanisław Lem</h1><img src='http://commons.wikimedia.org/wiki/Special:FilePath/Stanislaw_Lem_2.jpg?width=300'/><ul>Books:<li>Rasa drapieżców. Teksty ostatnie</li></ul>\""
      ]
     },
     "execution_count": 74,
     "metadata": {},
     "output_type": "execute_result"
    }
   ],
   "source": [
    "def display_author(author)\n",
    "  doc = \"<h1>#{author.name} #{author.surname}</h1><img src='#{author.image_url}'/>\"\n",
    "  doc << \"<ul>Books:\"\n",
    "  author.books.each do |book|\n",
    "    if book.published == author.died.year\n",
    "      doc << \"<li>#{book.title}</li>\"\n",
    "    end\n",
    "  end\n",
    "  doc << \"</ul>\"\n",
    "end\n",
    "\n",
    "author = Author.where(surname: \"Lem\").first\n",
    "\n",
    "doc = display_author(author)\n",
    "\n",
    "IRuby.html doc\n",
    "\n"
   ]
  },
  {
   "cell_type": "markdown",
   "metadata": {},
   "source": [
    "### Zadanie 9"
   ]
  },
  {
   "cell_type": "markdown",
   "metadata": {},
   "source": [
    "Wyświetl wszystkie książki znajdujące się w bazie. Opis powinien zawierać tytuł, imię i nazwisko autora, rok wydania oraz \n",
    "obraz przedstawiający książkę (o ile istnieje)."
   ]
  },
  {
   "cell_type": "code",
   "execution_count": 91,
   "metadata": {
    "collapsed": false
   },
   "outputs": [
    {
     "data": {
      "text/html": [
       "<h1>Végjáték (regény)</h1><h2>Orson Scott Card, </h2><img src=''/><h1>Pani Jeziora (powieść)</h1><h2>Andrzej Sapkowski, 1999</h2><img src=''/><h1>Bellew Zawierucha</h1><h2>Jack London, 1912</h2><img src=''/><h1>Fałszywy trop (powieść)</h1><h2>Henning Mankell, 1995</h2><img src=''/><h1>Bajki robotów</h1><h2>Stanisław Lem, 1964</h2><img src=''/><h1>Bolesław Chrobry (powieść)</h1><h2>Antoni Gołubiew, 1947</h2><img src=''/><h1>De revolutionibus orbium coelestium</h1><h2>Mikołaj Kopernik, 1543</h2><img src=''/><h1>Dzieło Wielkiego Miłosierdzia</h1><h2>Maria Franciszka Kozłowska, 1922</h2><img src=''/><h1>Folwark zwierzęcy</h1><h2>George Orwell, 1945</h2><img src='http://commons.wikimedia.org/wiki/Special:FilePath/Animalism_flag.svg?width=300'/><h1>Hamlet</h1><h2>William Szekspir, </h2><img src='http://commons.wikimedia.org/wiki/Special:FilePath/Hamlet_quarto_3rd.jpg?width=300'/><h1>Harry Potter</h1><h2>J. K. Rowling, 1997</h2><img src='http://commons.wikimedia.org/wiki/Special:FilePath/Harry_Potter_wordmark.svg?width=300'/><h1>Hobbit, czyli tam i z powrotem</h1><h2>John Ronald Reuel Tolkien, 1937</h2><img src=''/><h1>Hrabia Monte Christo</h1><h2>Aleksander Dumas (ojciec), 1844</h2><img src='http://commons.wikimedia.org/wiki/Special:FilePath/Louis_Français-Dantès_sur_son_rocher.jpg?width=300'/><h1>Kariera Nikodema Dyzmy</h1><h2>Tadeusz Dołęga-Mostowicz, 1932</h2><img src=''/><h1>Krzyżacy (powieść)</h1><h2>Henryk Sienkiewicz, 1900</h2><img src='http://commons.wikimedia.org/wiki/Special:FilePath/PL_Henryk_Sienkiewicz-Krzyżacy_0005.jpeg?width=300'/><h1>Lolita</h1><h2>Vladimir Nabokov, 1955</h2><img src=''/><h1>Mein Kampf</h1><h2>Adolf Hitler, 1925</h2><img src='http://commons.wikimedia.org/wiki/Special:FilePath/Landsberg.Jail.jpg?width=300'/><h1>Nad Niemnem</h1><h2>Eliza Orzeszkowa, 1888</h2><img src='http://commons.wikimedia.org/wiki/Special:FilePath/Nad_Niemnem_-_manuscript.jpg?width=300'/><h1>Niedokończone opowieści</h1><h2>Christopher Tolkien, 1980</h2><img src=''/><h1>Nowe Ateny</h1><h2>Benedykt Chmielowski, 1745</h2><img src='http://commons.wikimedia.org/wiki/Special:FilePath/Nowe_ateny1.jpg?width=300'/><h1>Nowy wspaniały świat</h1><h2>Aldous Huxley, 1932</h2><img src=''/><h1>Ogniem i mieczem</h1><h2>Henryk Sienkiewicz, 1884</h2><img src='http://commons.wikimedia.org/wiki/Special:FilePath/Podbipieta.JPG?width=300'/><h1>Ojciec Goriot</h1><h2>Honoré de Balzac, 1835</h2><img src='http://commons.wikimedia.org/wiki/Special:FilePath/Father_Goriot_by_H._Daumier_(1842).JPG?width=300'/><h1>Proces (powieść)</h1><h2>Franz Kafka, 1925</h2><img src='http://commons.wikimedia.org/wiki/Special:FilePath/Kafka_Der_Prozess_1925.jpg?width=300'/><h1>Psałterz Dawidów</h1><h2>Jan Kochanowski, 1579</h2><img src='http://commons.wikimedia.org/wiki/Special:FilePath/Kochanowski_-_Psałterz_Dawidów_(1579).jpg?width=300'/><h1>Quo vadis</h1><h2>Henryk Sienkiewicz, 1896</h2><img src='http://commons.wikimedia.org/wiki/Special:FilePath/Rzym_popiersie_Sienkiewicza_w_kosciele_Domine_Quo_Vadis.JPG?width=300'/><h1>Romeo i Julia</h1><h2>William Szekspir, 1597</h2><img src='http://commons.wikimedia.org/wiki/Special:FilePath/Romeo_and_juliet_brown.jpg?width=300'/><h1>Silmarillion</h1><h2>John Ronald Reuel Tolkien, 1977</h2><img src='http://commons.wikimedia.org/wiki/Special:FilePath/Silmarrillion,_Just_under_the_Cover.jpg?width=300'/><h1>Solaris (powieść)</h1><h2>Stanisław Lem, 1961</h2><img src='http://commons.wikimedia.org/wiki/Special:FilePath/Solaris,_various_editions_02.jpg?width=300'/><h1>Władca Pierścieni</h1><h2>John Ronald Reuel Tolkien, 1954</h2><img src='http://commons.wikimedia.org/wiki/Special:FilePath/Unico_Anello.png?width=300'/><h1>Zew Cthulhu (opowiadanie)</h1><h2>Howard Phillips Lovecraft, 1928</h2><img src=''/><h1>Znaczy Kapitan</h1><h2>Karol Olgierd Borchardt, 1960</h2><img src=''/><h1>Anna Karenina</h1><h2>Lew Tołstoj, 1877</h2><img src='http://commons.wikimedia.org/wiki/Special:FilePath/AnnaKareninaTitle.jpg?width=300'/><h1>Azazel (powieść)</h1><h2>Boris Akunin, 1998</h2><img src=''/><h1>Bezsenność (zbiór opowiadań)</h1><h2>Stanisław Lem, 1971</h2><img src=''/><h1>Cała prawda o planecie Ksi</h1><h2>Janusz Zajdel, 1983</h2><img src=''/><h1>Dekorator</h1><h2>Boris Akunin, 1998</h2><img src=''/><h1>Diamentowa karoca</h1><h2>Boris Akunin, 2003</h2><img src=''/><h1>Dives in misericordia</h1><h2>Jan Paweł II, 1980</h2><img src='http://commons.wikimedia.org/wiki/Special:FilePath/John_paul_2_coa.svg?width=300'/><h1>Droga na molo w Wigan</h1><h2>George Orwell, 1937</h2><img src=''/><h1>Druga Fundacja</h1><h2>Isaac Asimov, 1953</h2><img src=''/><h1>Dwanaście krzeseł</h1><h2>Ilja Ilf, 1928</h2><img src='http://commons.wikimedia.org/wiki/Special:FilePath/Ostap_Bender_Monument_in_Kharkiv.jpg?width=300'/><h1>Fundacja (powieść)</h1><h2>Isaac Asimov, 1951</h2><img src=''/><h1>Fundacja i Imperium</h1><h2>Isaac Asimov, 1952</h2><img src=''/><h1>Gambit turecki</h1><h2>Boris Akunin, 1998</h2><img src=''/><h1>Głos Pana</h1><h2>Stanisław Lem, 1968</h2><img src=''/><h1>Ich czworo</h1><h2>Gabriela Zapolska, 1907</h2><img src=''/><h1>Inwazja z Aldebarana (zbiór opowiadań)</h1><h2>Stanisław Lem, 1959</h2><img src=''/><h1>Kamienna małpa</h1><h2>Jeffery Deaver, 2002</h2><img src=''/><h1>Katar (powieść)</h1><h2>Stanisław Lem, 1976</h2><img src=''/><h1>Kochanek Śmierci</h1><h2>Boris Akunin, 2001</h2><img src=''/><h1>Kochanka Śmierci</h1><h2>Boris Akunin, 2001</h2><img src=''/><h1>Koronacja (powieść)</h1><h2>Boris Akunin, 1999</h2><img src=''/><h1>Kot w stanie czystym</h1><h2>Terry Pratchett, 1989</h2><img src=''/><h1>Koń i jego chłopiec</h1><h2>Clive Staples Lewis, 1954</h2><img src=''/><h1>Księga robotów</h1><h2>Stanisław Lem, 1961</h2><img src=''/><h1>Księgi narodu polskiego i pielgrzymstwa polskiego</h1><h2>Adam Mickiewicz, 1832</h2><img src='http://commons.wikimedia.org/wiki/Special:FilePath/PL_Księgi_narodu_polskiego_i_pielgrzymstwa_polskiego_008.png?width=300'/><h1>Kuzynki</h1><h2>Andrzej Pilipiuk, 2003</h2><img src=''/><h1>Lewa ręka ciemności</h1><h2>Ursula K. Le Guin, 1969</h2><img src=''/><h1>Lewiatan (powieść)</h1><h2>Boris Akunin, 1998</h2><img src=''/><h1>Mag (powieść J. Deavera)</h1><h2>Jeffery Deaver, 2003</h2><img src=''/><h1>Maska (zbiór dzieł)</h1><h2>Stanisław Lem, 1976</h2><img src=''/><h1>Niezwyciężony i inne opowiadania</h1><h2>Stanisław Lem, 1964</h2><img src=''/><h1>Noc księżycowa</h1><h2>Stanisław Lem, 1963</h2><img src=''/><h1>Ojcowie i dzieci</h1><h2>Iwan Turgieniew, 0</h2><img src='http://commons.wikimedia.org/wiki/Special:FilePath/Otsy1880.jpg?width=300'/><h1>Pamiętnik znaleziony w wannie</h1><h2>Stanisław Lem, 1961</h2><img src=''/><h1>Pieśń Lodu i Ognia</h1><h2>George R. R. Martin, 1996</h2><img src=''/><h1>Podróże z Herodotem</h1><h2>Ryszard Kapuściński, 2004</h2><img src=''/><h1>Polowanie (zbiór opowiadań)</h1><h2>Stanisław Lem, 1965</h2><img src=''/><h1>Powtórka (zbiór dzieł)</h1><h2>Stanisław Lem, 1979</h2><img src=''/><h1>Pożytek ze smoka</h1><h2>Stanisław Lem, 1993</h2><img src=''/><h1>Preludium Fundacji</h1><h2>Isaac Asimov, 1988</h2><img src=''/><h1>Radca stanu (powieść)</h1><h2>Boris Akunin, 1998</h2><img src=''/><h1>Rasa drapieżców. Teksty ostatnie</h1><h2>Stanisław Lem, 2006</h2><img src=''/><h1>Rilla ze Złotego Brzegu</h1><h2>Lucy Maud Montgomery, 1921</h2><img src=''/><h1>Sen nocy letniej</h1><h2>William Szekspir, 1600</h2><img src='http://commons.wikimedia.org/wiki/Special:FilePath/MND_title_page.jpg?width=300'/><h1>Sezam i inne opowiadania</h1><h2>Stanisław Lem, 1954</h2><img src=''/><h1>Slavorum apostoli</h1><h2>Jan Paweł II, 1985</h2><img src='http://commons.wikimedia.org/wiki/Special:FilePath/John_paul_2_coa.svg?width=300'/><h1>Summa technologiae</h1><h2>Stanisław Lem, 1964</h2><img src=''/><h1>Tam gdzie spadają anioły</h1><h2>Dorota Terakowska, 1998</h2><img src=''/><h1>Tomek u źródeł Amazonki</h1><h2>Alfred Szklarski, 1967</h2><img src=''/><h1>Tomek w Gran Chaco</h1><h2>Alfred Szklarski, 1987</h2><img src=''/><h1>Tomek w grobowcach faraonów</h1><h2>Alfred Szklarski, 1994</h2><img src=''/><h1>Ut unum sint</h1><h2>Jan Paweł II, 1995</h2><img src='http://commons.wikimedia.org/wiki/Special:FilePath/John_paul_2_coa.svg?width=300'/><h1>Veritatis splendor</h1><h2>Jan Paweł II, 1993</h2><img src='http://commons.wikimedia.org/wiki/Special:FilePath/John_paul_2_coa.svg?width=300'/><h1>Walc stulecia</h1><h2>Rafał A. Ziemkiewicz, 1998</h2><img src=''/><h1>Walet pikowy (powieść)</h1><h2>Boris Akunin, 1998</h2><img src=''/><h1>Wampir Lestat</h1><h2>Anne Rice, 1985</h2><img src=''/><h1>Wizja lokalna (powieść)</h1><h2>Stanisław Lem, 1982</h2><img src=''/><h1>Wojna i pokój</h1><h2>Lew Tołstoj, 1865</h2><img src='http://commons.wikimedia.org/wiki/Special:FilePath/War-and-peace_1873.gif?width=300'/><h1>Śmierć Achillesa</h1><h2>Boris Akunin, 1998</h2><img src=''/><h1>Życie i przygody Remusa</h1><h2>Aleksander Majkowski, 1938</h2><img src=''/><h1>Casino Royale (powieść)</h1><h2>Ian Fleming, 1953</h2><img src=''/><h1>Cień kata</h1><h2>Gene Wolfe, 1980</h2><img src=''/><h1>Czarnoksiężnik z Archipelagu</h1><h2>Ursula K. Le Guin, 1968</h2><img src=''/><h1>Czarownica z Portobello</h1><h2>Paulo Coelho, 2006</h2><img src=''/><h1>Czas patriotów (powieść)</h1><h2>Tom Clancy, 1987</h2><img src=''/>"
      ],
      "text/plain": [
       "\"<h1>Végjáték (regény)</h1><h2>Orson Scott Card, </h2><img src=''/><h1>Pani Jeziora (powieść)</h1><h2>Andrzej Sapkowski, 1999</h2><img src=''/><h1>Bellew Zawierucha</h1><h2>Jack London, 1912</h2><img src=''/><h1>Fałszywy trop (powieść)</h1><h2>Henning Mankell, 1995</h2><img src=''/><h1>Bajki robotów</h1><h2>Stanisław Lem, 1964</h2><img src=''/><h1>Bolesław Chrobry (powieść)</h1><h2>Antoni Gołubiew, 1947</h2><img src=''/><h1>De revolutionibus orbium coelestium</h1><h2>Mikołaj Kopernik, 1543</h2><img src=''/><h1>Dzieło Wielkiego Miłosierdzia</h1><h2>Maria Franciszka Kozłowska, 1922</h2><img src=''/><h1>Folwark zwierzęcy</h1><h2>George Orwell, 1945</h2><img src='http://commons.wikimedia.org/wiki/Special:FilePath/Animalism_flag.svg?width=300'/><h1>Hamlet</h1><h2>William Szekspir, </h2><img src='http://commons.wikimedia.org/wiki/Special:FilePath/Hamlet_quarto_3rd.jpg?width=300'/><h1>Harry Potter</h1><h2>J. K. Rowling, 1997</h2><img src='http://commons.wikimedia.org/wiki/Special:FilePath/Harry_Potter_wordmark.svg?width=300'/><h1>Hobbit, czyli tam i z powrotem</h1><h2>John Ronald Reuel Tolkien, 1937</h2><img src=''/><h1>Hrabia Monte Christo</h1><h2>Aleksander Dumas (ojciec), 1844</h2><img src='http://commons.wikimedia.org/wiki/Special:FilePath/Louis_Français-Dantès_sur_son_rocher.jpg?width=300'/><h1>Kariera Nikodema Dyzmy</h1><h2>Tadeusz Dołęga-Mostowicz, 1932</h2><img src=''/><h1>Krzyżacy (powieść)</h1><h2>Henryk Sienkiewicz, 1900</h2><img src='http://commons.wikimedia.org/wiki/Special:FilePath/PL_Henryk_Sienkiewicz-Krzyżacy_0005.jpeg?width=300'/><h1>Lolita</h1><h2>Vladimir Nabokov, 1955</h2><img src=''/><h1>Mein Kampf</h1><h2>Adolf Hitler, 1925</h2><img src='http://commons.wikimedia.org/wiki/Special:FilePath/Landsberg.Jail.jpg?width=300'/><h1>Nad Niemnem</h1><h2>Eliza Orzeszkowa, 1888</h2><img src='http://commons.wikimedia.org/wiki/Special:FilePath/Nad_Niemnem_-_manuscript.jpg?width=300'/><h1>Niedokończone opowieści</h1><h2>Christopher Tolkien, 1980</h2><img src=''/><h1>Nowe Ateny</h1><h2>Benedykt Chmielowski, 1745</h2><img src='http://commons.wikimedia.org/wiki/Special:FilePath/Nowe_ateny1.jpg?width=300'/><h1>Nowy wspaniały świat</h1><h2>Aldous Huxley, 1932</h2><img src=''/><h1>Ogniem i mieczem</h1><h2>Henryk Sienkiewicz, 1884</h2><img src='http://commons.wikimedia.org/wiki/Special:FilePath/Podbipieta.JPG?width=300'/><h1>Ojciec Goriot</h1><h2>Honoré de Balzac, 1835</h2><img src='http://commons.wikimedia.org/wiki/Special:FilePath/Father_Goriot_by_H._Daumier_(1842).JPG?width=300'/><h1>Proces (powieść)</h1><h2>Franz Kafka, 1925</h2><img src='http://commons.wikimedia.org/wiki/Special:FilePath/Kafka_Der_Prozess_1925.jpg?width=300'/><h1>Psałterz Dawidów</h1><h2>Jan Kochanowski, 1579</h2><img src='http://commons.wikimedia.org/wiki/Special:FilePath/Kochanowski_-_Psałterz_Dawidów_(1579).jpg?width=300'/><h1>Quo vadis</h1><h2>Henryk Sienkiewicz, 1896</h2><img src='http://commons.wikimedia.org/wiki/Special:FilePath/Rzym_popiersie_Sienkiewicza_w_kosciele_Domine_Quo_Vadis.JPG?width=300'/><h1>Romeo i Julia</h1><h2>William Szekspir, 1597</h2><img src='http://commons.wikimedia.org/wiki/Special:FilePath/Romeo_and_juliet_brown.jpg?width=300'/><h1>Silmarillion</h1><h2>John Ronald Reuel Tolkien, 1977</h2><img src='http://commons.wikimedia.org/wiki/Special:FilePath/Silmarrillion,_Just_under_the_Cover.jpg?width=300'/><h1>Solaris (powieść)</h1><h2>Stanisław Lem, 1961</h2><img src='http://commons.wikimedia.org/wiki/Special:FilePath/Solaris,_various_editions_02.jpg?width=300'/><h1>Władca Pierścieni</h1><h2>John Ronald Reuel Tolkien, 1954</h2><img src='http://commons.wikimedia.org/wiki/Special:FilePath/Unico_Anello.png?width=300'/><h1>Zew Cthulhu (opowiadanie)</h1><h2>Howard Phillips Lovecraft, 1928</h2><img src=''/><h1>Znaczy Kapitan</h1><h2>Karol Olgierd Borchardt, 1960</h2><img src=''/><h1>Anna Karenina</h1><h2>Lew Tołstoj, 1877</h2><img src='http://commons.wikimedia.org/wiki/Special:FilePath/AnnaKareninaTitle.jpg?width=300'/><h1>Azazel (powieść)</h1><h2>Boris Akunin, 1998</h2><img src=''/><h1>Bezsenność (zbiór opowiadań)</h1><h2>Stanisław Lem, 1971</h2><img src=''/><h1>Cała prawda o planecie Ksi</h1><h2>Janusz Zajdel, 1983</h2><img src=''/><h1>Dekorator</h1><h2>Boris Akunin, 1998</h2><img src=''/><h1>Diamentowa karoca</h1><h2>Boris Akunin, 2003</h2><img src=''/><h1>Dives in misericordia</h1><h2>Jan Paweł II, 1980</h2><img src='http://commons.wikimedia.org/wiki/Special:FilePath/John_paul_2_coa.svg?width=300'/><h1>Droga na molo w Wigan</h1><h2>George Orwell, 1937</h2><img src=''/><h1>Druga Fundacja</h1><h2>Isaac Asimov, 1953</h2><img src=''/><h1>Dwanaście krzeseł</h1><h2>Ilja Ilf, 1928</h2><img src='http://commons.wikimedia.org/wiki/Special:FilePath/Ostap_Bender_Monument_in_Kharkiv.jpg?width=300'/><h1>Fundacja (powieść)</h1><h2>Isaac Asimov, 1951</h2><img src=''/><h1>Fundacja i Imperium</h1><h2>Isaac Asimov, 1952</h2><img src=''/><h1>Gambit turecki</h1><h2>Boris Akunin, 1998</h2><img src=''/><h1>Głos Pana</h1><h2>Stanisław Lem, 1968</h2><img src=''/><h1>Ich czworo</h1><h2>Gabriela Zapolska, 1907</h2><img src=''/><h1>Inwazja z Aldebarana (zbiór opowiadań)</h1><h2>Stanisław Lem, 1959</h2><img src=''/><h1>Kamienna małpa</h1><h2>Jeffery Deaver, 2002</h2><img src=''/><h1>Katar (powieść)</h1><h2>Stanisław Lem, 1976</h2><img src=''/><h1>Kochanek Śmierci</h1><h2>Boris Akunin, 2001</h2><img src=''/><h1>Kochanka Śmierci</h1><h2>Boris Akunin, 2001</h2><img src=''/><h1>Koronacja (powieść)</h1><h2>Boris Akunin, 1999</h2><img src=''/><h1>Kot w stanie czystym</h1><h2>Terry Pratchett, 1989</h2><img src=''/><h1>Koń i jego chłopiec</h1><h2>Clive Staples Lewis, 1954</h2><img src=''/><h1>Księga robotów</h1><h2>Stanisław Lem, 1961</h2><img src=''/><h1>Księgi narodu polskiego i pielgrzymstwa polskiego</h1><h2>Adam Mickiewicz, 1832</h2><img src='http://commons.wikimedia.org/wiki/Special:FilePath/PL_Księgi_narodu_polskiego_i_pielgrzymstwa_polskiego_008.png?width=300'/><h1>Kuzynki</h1><h2>Andrzej Pilipiuk, 2003</h2><img src=''/><h1>Lewa ręka ciemności</h1><h2>Ursula K. Le Guin, 1969</h2><img src=''/><h1>Lewiatan (powieść)</h1><h2>Boris Akunin, 1998</h2><img src=''/><h1>Mag (powieść J. Deavera)</h1><h2>Jeffery Deaver, 2003</h2><img src=''/><h1>Maska (zbiór dzieł)</h1><h2>Stanisław Lem, 1976</h2><img src=''/><h1>Niezwyciężony i inne opowiadania</h1><h2>Stanisław Lem, 1964</h2><img src=''/><h1>Noc księżycowa</h1><h2>Stanisław Lem, 1963</h2><img src=''/><h1>Ojcowie i dzieci</h1><h2>Iwan Turgieniew, 0</h2><img src='http://commons.wikimedia.org/wiki/Special:FilePath/Otsy1880.jpg?width=300'/><h1>Pamiętnik znaleziony w wannie</h1><h2>Stanisław Lem, 1961</h2><img src=''/><h1>Pieśń Lodu i Ognia</h1><h2>George R. R. Martin, 1996</h2><img src=''/><h1>Podróże z Herodotem</h1><h2>Ryszard Kapuściński, 2004</h2><img src=''/><h1>Polowanie (zbiór opowiadań)</h1><h2>Stanisław Lem, 1965</h2><img src=''/><h1>Powtórka (zbiór dzieł)</h1><h2>Stanisław Lem, 1979</h2><img src=''/><h1>Pożytek ze smoka</h1><h2>Stanisław Lem, 1993</h2><img src=''/><h1>Preludium Fundacji</h1><h2>Isaac Asimov, 1988</h2><img src=''/><h1>Radca stanu (powieść)</h1><h2>Boris Akunin, 1998</h2><img src=''/><h1>Rasa drapieżców. Teksty ostatnie</h1><h2>Stanisław Lem, 2006</h2><img src=''/><h1>Rilla ze Złotego Brzegu</h1><h2>Lucy Maud Montgomery, 1921</h2><img src=''/><h1>Sen nocy letniej</h1><h2>William Szekspir, 1600</h2><img src='http://commons.wikimedia.org/wiki/Special:FilePath/MND_title_page.jpg?width=300'/><h1>Sezam i inne opowiadania</h1><h2>Stanisław Lem, 1954</h2><img src=''/><h1>Slavorum apostoli</h1><h2>Jan Paweł II, 1985</h2><img src='http://commons.wikimedia.org/wiki/Special:FilePath/John_paul_2_coa.svg?width=300'/><h1>Summa technologiae</h1><h2>Stanisław Lem, 1964</h2><img src=''/><h1>Tam gdzie spadają anioły</h1><h2>Dorota Terakowska, 1998</h2><img src=''/><h1>Tomek u źródeł Amazonki</h1><h2>Alfred Szklarski, 1967</h2><img src=''/><h1>Tomek w Gran Chaco</h1><h2>Alfred Szklarski, 1987</h2><img src=''/><h1>Tomek w grobowcach faraonów</h1><h2>Alfred Szklarski, 1994</h2><img src=''/><h1>Ut unum sint</h1><h2>Jan Paweł II, 1995</h2><img src='http://commons.wikimedia.org/wiki/Special:FilePath/John_paul_2_coa.svg?width=300'/><h1>Veritatis splendor</h1><h2>Jan Paweł II, 1993</h2><img src='http://commons.wikimedia.org/wiki/Special:FilePath/John_paul_2_coa.svg?width=300'/><h1>Walc stulecia</h1><h2>Rafał A. Ziemkiewicz, 1998</h2><img src=''/><h1>Walet pikowy (powieść)</h1><h2>Boris Akunin, 1998</h2><img src=''/><h1>Wampir Lestat</h1><h2>Anne Rice, 1985</h2><img src=''/><h1>Wizja lokalna (powieść)</h1><h2>Stanisław Lem, 1982</h2><img src=''/><h1>Wojna i pokój</h1><h2>Lew Tołstoj, 1865</h2><img src='http://commons.wikimedia.org/wiki/Special:FilePath/War-and-peace_1873.gif?width=300'/><h1>Śmierć Achillesa</h1><h2>Boris Akunin, 1998</h2><img src=''/><h1>Życie i przygody Remusa</h1><h2>Aleksander Majkowski, 1938</h2><img src=''/><h1>Casino Royale (powieść)</h1><h2>Ian Fleming, 1953</h2><img src=''/><h1>Cień kata</h1><h2>Gene Wolfe, 1980</h2><img src=''/><h1>Czarnoksiężnik z Archipelagu</h1><h2>Ursula K. Le Guin, 1968</h2><img src=''/><h1>Czarownica z Portobello</h1><h2>Paulo Coelho, 2006</h2><img src=''/><h1>Czas patriotów (powieść)</h1><h2>Tom Clancy, 1987</h2><img src=''/>\""
      ]
     },
     "execution_count": 91,
     "metadata": {},
     "output_type": "execute_result"
    }
   ],
   "source": [
    "doc = \"\"\n",
    "\n",
    "books = Book.all\n",
    "books.each do |book|\n",
    "  doc << \"<h1>#{book.title}</h1><h2>#{book.author.name} #{book.author.surname}, #{book.published}</h2><img src='#{book.image_url}'/>\"\n",
    "end\n",
    "\n",
    "\n",
    "IRuby.html doc"
   ]
  },
  {
   "cell_type": "markdown",
   "metadata": {},
   "source": [
    "### Zadanie 10"
   ]
  },
  {
   "cell_type": "markdown",
   "metadata": {},
   "source": [
    "Wyświetl wszystkich autorów znajdujących się w bazie wraz z opisem zawierającym ich zdjęcie, datę urodzin i śmierci oraz spis \n",
    "opublikowanych książek. Pamiętaj o odpowiednim sformatowaniu dat oraz o tym, że nie wszyscy autorzy mają przypisane wszystkie\n",
    "informacje."
   ]
  },
  {
   "cell_type": "code",
   "execution_count": 97,
   "metadata": {
    "collapsed": false
   },
   "outputs": [
    {
     "ename": "NoMethodError",
     "evalue": "undefined method `strftime' for nil:NilClass",
     "output_type": "error",
     "traceback": [
      "\u001b[31mNoMethodError\u001b[0m: undefined method `strftime' for nil:NilClass",
      "\u001b[37m<main>:5:in `block in <main>'\u001b[0m",
      "\u001b[37m/home/wlasciciel/.rvm/gems/ruby-2.2.3/gems/activerecord-4.2.4/lib/active_record/relation/delegation.rb:46:in `each'\u001b[0m",
      "\u001b[37m/home/wlasciciel/.rvm/gems/ruby-2.2.3/gems/activerecord-4.2.4/lib/active_record/relation/delegation.rb:46:in `each'\u001b[0m",
      "\u001b[37m<main>:3:in `<main>'\u001b[0m",
      "\u001b[37m/home/wlasciciel/.rvm/gems/ruby-2.2.3/gems/iruby-0.2.7/lib/iruby/backend.rb:44:in `eval'\u001b[0m",
      "\u001b[37m/home/wlasciciel/.rvm/gems/ruby-2.2.3/gems/iruby-0.2.7/lib/iruby/backend.rb:44:in `eval'\u001b[0m",
      "\u001b[37m/home/wlasciciel/.rvm/gems/ruby-2.2.3/gems/iruby-0.2.7/lib/iruby/backend.rb:12:in `eval'\u001b[0m",
      "\u001b[37m/home/wlasciciel/.rvm/gems/ruby-2.2.3/gems/iruby-0.2.7/lib/iruby/kernel.rb:87:in `execute_request'\u001b[0m",
      "\u001b[37m/home/wlasciciel/.rvm/gems/ruby-2.2.3/gems/iruby-0.2.7/lib/iruby/kernel.rb:47:in `dispatch'\u001b[0m",
      "\u001b[37m/home/wlasciciel/.rvm/gems/ruby-2.2.3/gems/iruby-0.2.7/lib/iruby/kernel.rb:37:in `run'\u001b[0m",
      "\u001b[37m/home/wlasciciel/.rvm/gems/ruby-2.2.3/gems/iruby-0.2.7/lib/iruby/command.rb:70:in `run_kernel'\u001b[0m",
      "\u001b[37m/home/wlasciciel/.rvm/gems/ruby-2.2.3/gems/iruby-0.2.7/lib/iruby/command.rb:34:in `run'\u001b[0m",
      "\u001b[37m/home/wlasciciel/.rvm/gems/ruby-2.2.3/gems/iruby-0.2.7/bin/iruby:5:in `<top (required)>'\u001b[0m",
      "\u001b[37m/home/wlasciciel/.rvm/gems/ruby-2.2.3/bin/iruby:23:in `load'\u001b[0m",
      "\u001b[37m/home/wlasciciel/.rvm/gems/ruby-2.2.3/bin/iruby:23:in `<main>'\u001b[0m",
      "\u001b[37m/home/wlasciciel/.rvm/gems/ruby-2.2.3/bin/ruby_executable_hooks:15:in `eval'\u001b[0m",
      "\u001b[37m/home/wlasciciel/.rvm/gems/ruby-2.2.3/bin/ruby_executable_hooks:15:in `<main>'\u001b[0m"
     ]
    }
   ],
   "source": [
    "doc = \"\"\n",
    "books = Book.all\n",
    "authors = Author.all\n",
    "authors.each do |author|\n",
    "  doc << \"<h1>#{author.name} #{author.surname}</h1>\n",
    "<h3>#{author.born.strftime(\"%d-%m-%Y\")}, #{author.died}</h3><img src='#{author.image_url}'/>\n",
    "<ul>Books:\"\n",
    "  books.each do |book|\n",
    "    if \n",
    "      author.id == book.author_id\n",
    "      doc << \"<li>#{book.title}</li>\"\n",
    "      end\n",
    "  end\n",
    "  doc << \"</ul>\"\n",
    "end\n",
    "\n",
    "\n",
    "IRuby.html doc\n",
    "\n",
    "#ŹLE DATY"
   ]
  }
 ],
 "metadata": {
  "kernelspec": {
   "display_name": "Ruby 2.2.3",
   "language": "ruby",
   "name": "ruby"
  },
  "language_info": {
   "file_extension": "rb",
   "mimetype": "application/x-ruby",
   "name": "ruby",
   "version": "2.2.3"
  }
 },
 "nbformat": 4,
 "nbformat_minor": 0
}
