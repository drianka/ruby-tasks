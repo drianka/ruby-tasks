{
 "cells": [
  {
   "cell_type": "markdown",
   "metadata": {},
   "source": [
    "# ActiveRecord"
   ]
  },
  {
   "cell_type": "markdown",
   "metadata": {},
   "source": [
    "Zanim przystąpimy do pracy, musimy skonfigurować bazę danych. Ponieważ pracujemy bez użycia Railsów, konieczne jest\n",
    "ręczne zestawienie połączenia oraz stworzenie odpowiednich tabel w bazie. Zadania te realizowane są przez\n",
    "skrypt `db_setup.rb`. Aby go uruchomić wpisujemy\n",
    "```ruby\n",
    "$:.unshift \".\"\n",
    "require 'db_setup'\n",
    "```"
   ]
  },
  {
   "cell_type": "code",
   "execution_count": 1,
   "metadata": {
    "collapsed": false,
    "scrolled": true
   },
   "outputs": [
    {
     "name": "stdout",
     "output_type": "stream",
     "text": [
      "==  CreateAuthorsMigration: migrating =========================================\n",
      "-- create_table(:authors)\n",
      "   -> 0.1621s\n",
      "==  CreateAuthorsMigration: migrated (0.1640s) ================================\n",
      "\n",
      "==  CreateBooksMigration: migrating ===========================================\n",
      "-- create_table(:books)\n",
      "   -> 0.1367s\n",
      "==  CreateBooksMigration: migrated (0.1396s) ==================================\n",
      "\n",
      "==  CreateGenresMigration: migrating ==========================================\n",
      "-- create_table(:genres)\n",
      "   -> 0.1284s\n",
      "==  CreateGenresMigration: migrated (0.1299s) =================================\n",
      "\n",
      "==  CreateBooksGenresMigration: migrating =====================================\n",
      "-- create_table(:books_genres, {:id=>false})\n",
      "   -> 0.1312s\n",
      "-- add_index(:books_genres, [:book_id, :genre_id], {:unique=>true})\n",
      "   -> 0.1760s\n",
      "==  CreateBooksGenresMigration: migrated (0.3116s) ============================\n",
      "\n",
      "==  AddIndicesMigration: migrating ============================================\n",
      "==  AddIndicesMigration: migrated (0.0000s) ===================================\n",
      "\n"
     ]
    },
    {
     "data": {
      "text/plain": [
       "true"
      ]
     },
     "execution_count": 1,
     "metadata": {},
     "output_type": "execute_result"
    }
   ],
   "source": [
    "$:.unshift \".\"\n",
    "require 'db_setup'\n"
   ]
  },
  {
   "cell_type": "markdown",
   "metadata": {},
   "source": [
    "W dalszych zadaniach będzie wykonywać polecenia korzystając z następujących klas, zmapowanych na odpowiadające im \n",
    "table w bazie danych:\n",
    "```ruby\n",
    "class Author < ActiveRecord::Base\n",
    "  # name      (string)\n",
    "  # surname   (string)\n",
    "  # born      (datetime) \n",
    "  # died      (datetime)\n",
    "  # image_url (string)\n",
    "  \n",
    "  has_many :books\n",
    "end\n",
    "\n",
    "class Book < ActiveRecord::Base\n",
    "  # title     (string)\n",
    "  # language  (string)\n",
    "  # author    (Author)\n",
    "  # published (integer)\n",
    "\n",
    "  belongs_to :author\n",
    "  has_and_belongs_to_many :genres\n",
    "end\n",
    "\n",
    "class Genre < ActiveRecord::Base\n",
    "  # name  (string)\n",
    "  \n",
    "  has_and_belongs_to_many :books\n",
    "end\n",
    "```"
   ]
  },
  {
   "cell_type": "markdown",
   "metadata": {},
   "source": [
    "## CRUD"
   ]
  },
  {
   "cell_type": "markdown",
   "metadata": {},
   "source": [
    "Cztery podstawowe operacje, które wykonujemy na danych to\n",
    "* tworzenie - **C**reate\n",
    "* odczytywanie - **R**ead\n",
    "* modyfikowanie - **U**pdate\n",
    "* usuwanie - **D**elete\n",
    "\n",
    "W skrócie oznaczane są one za pomocą akronimu CRUD."
   ]
  },
  {
   "cell_type": "markdown",
   "metadata": {},
   "source": [
    "### Create"
   ]
  },
  {
   "cell_type": "markdown",
   "metadata": {},
   "source": [
    "W ActiveRecord (w skrócie AR) korzystamy z obiektowego interfejsu. \n",
    "Tworzenie danych wygląda następująco:\n",
    "```ruby\n",
    "author = Author.new(name: \"Adam\", surname: \"Mickiewicz\")\n",
    "author.save\n",
    "```"
   ]
  },
  {
   "cell_type": "code",
   "execution_count": 2,
   "metadata": {
    "collapsed": false
   },
   "outputs": [
    {
     "data": {
      "text/plain": [
       "true"
      ]
     },
     "execution_count": 2,
     "metadata": {},
     "output_type": "execute_result"
    }
   ],
   "source": [
    "author = Author.new(name: \"Adam\", surname: \"Mickiewicz\")\n",
    "author.save\n"
   ]
  },
  {
   "cell_type": "markdown",
   "metadata": {},
   "source": [
    "Innymi słowy tworzymy nowy obiekt Rubiego i wywołujemy na nim metodę `save`. To że faktycznie został on dodany do bazy danych \n",
    "możemy zweryfikować wyszukując pierwszy obiekt w bazie:\n",
    "```ruby\n",
    "author = Author.first\n",
    "puts author.name\n",
    "puts author.surname\n",
    "```"
   ]
  },
  {
   "cell_type": "code",
   "execution_count": 3,
   "metadata": {
    "collapsed": false
   },
   "outputs": [
    {
     "name": "stdout",
     "output_type": "stream",
     "text": [
      "Adam\n",
      "Mickiewicz\n"
     ]
    }
   ],
   "source": [
    "author = Author.first\n",
    "puts author.name\n",
    "puts author.surname\n"
   ]
  },
  {
   "cell_type": "markdown",
   "metadata": {},
   "source": [
    "### Zadanie 1"
   ]
  },
  {
   "cell_type": "markdown",
   "metadata": {},
   "source": [
    "Dodaj do bazy 3 autorów:\n",
    "* Juliusz Słowacki\n",
    "* Henryk Sienkiewicz\n",
    "* Eliza Orzeszkowa"
   ]
  },
  {
   "cell_type": "code",
   "execution_count": 10,
   "metadata": {
    "collapsed": false
   },
   "outputs": [
    {
     "data": {
      "text/plain": [
       "true"
      ]
     },
     "execution_count": 10,
     "metadata": {},
     "output_type": "execute_result"
    }
   ],
   "source": [
    "author = Author.new(name: \"Juliusz\", surname: \"Słowacki\")\n",
    "author.save\n",
    "author = Author.new(name: \"Henryk\", surname: \"Sienkiewicz\")\n",
    "author.save\n",
    "author = Author.new(name: \"Eliza\", surname: \"Orzeszkowa\")\n",
    "author.save\n"
   ]
  },
  {
   "cell_type": "markdown",
   "metadata": {},
   "source": [
    "### Read"
   ]
  },
  {
   "cell_type": "markdown",
   "metadata": {},
   "source": [
    "Odczytywanie danych z bazy można realizować na wiele sposobów. Najprostszy sposób, to wyszukiwanie ich z wykorzystaniem \n",
    "klucza główego - `id`. Służy do tego metoda `find`:\n",
    "```ruby\n",
    "author = Author.find(1)\n",
    "puts author.surname\n",
    "author = Author.find(2)\n",
    "puts author.surname\n",
    "```"
   ]
  },
  {
   "cell_type": "code",
   "execution_count": 22,
   "metadata": {
    "collapsed": false
   },
   "outputs": [
    {
     "name": "stdout",
     "output_type": "stream",
     "text": [
      "Mickiewicz\n",
      "Słowacki\n",
      "Sienkiewicz\n",
      "Orzeszkowa\n"
     ]
    }
   ],
   "source": [
    "author = Author.find(2)\n",
    "puts author.surname\n",
    "author = Author.find(4)\n",
    "puts author.surname\n",
    "author = Author.find(5)\n",
    "puts author.surname\n",
    "author = Author.find(6)\n",
    "puts author.surname\n"
   ]
  },
  {
   "cell_type": "markdown",
   "metadata": {},
   "source": [
    "Wykorzystanie tej metody może jedak skutkować wyjątkiem, jeśli w bazie nie ma wiersza z danym kluczem:\n",
    "```ruby\n",
    "author = Author.find(10)\n",
    "```"
   ]
  },
  {
   "cell_type": "code",
   "execution_count": 183,
   "metadata": {
    "collapsed": false
   },
   "outputs": [
    {
     "ename": "ActiveRecord::RecordNotFound",
     "evalue": "Couldn't find Author with 'id'=10",
     "output_type": "error",
     "traceback": [
      "\u001b[31mActiveRecord::RecordNotFound\u001b[0m: Couldn't find Author with 'id'=10",
      "\u001b[37m/home/wlasciciel/.rvm/gems/ruby-2.2.3/gems/activerecord-4.2.4/lib/active_record/core.rb:155:in `find'\u001b[0m",
      "\u001b[37m<main>:in `<main>'\u001b[0m",
      "\u001b[37m/home/wlasciciel/.rvm/gems/ruby-2.2.3/gems/iruby-0.2.7/lib/iruby/backend.rb:44:in `eval'\u001b[0m",
      "\u001b[37m/home/wlasciciel/.rvm/gems/ruby-2.2.3/gems/iruby-0.2.7/lib/iruby/backend.rb:44:in `eval'\u001b[0m",
      "\u001b[37m/home/wlasciciel/.rvm/gems/ruby-2.2.3/gems/iruby-0.2.7/lib/iruby/backend.rb:12:in `eval'\u001b[0m",
      "\u001b[37m/home/wlasciciel/.rvm/gems/ruby-2.2.3/gems/iruby-0.2.7/lib/iruby/kernel.rb:87:in `execute_request'\u001b[0m",
      "\u001b[37m/home/wlasciciel/.rvm/gems/ruby-2.2.3/gems/iruby-0.2.7/lib/iruby/kernel.rb:47:in `dispatch'\u001b[0m",
      "\u001b[37m/home/wlasciciel/.rvm/gems/ruby-2.2.3/gems/iruby-0.2.7/lib/iruby/kernel.rb:37:in `run'\u001b[0m",
      "\u001b[37m/home/wlasciciel/.rvm/gems/ruby-2.2.3/gems/iruby-0.2.7/lib/iruby/command.rb:70:in `run_kernel'\u001b[0m",
      "\u001b[37m/home/wlasciciel/.rvm/gems/ruby-2.2.3/gems/iruby-0.2.7/lib/iruby/command.rb:34:in `run'\u001b[0m",
      "\u001b[37m/home/wlasciciel/.rvm/gems/ruby-2.2.3/gems/iruby-0.2.7/bin/iruby:5:in `<top (required)>'\u001b[0m",
      "\u001b[37m/home/wlasciciel/.rvm/gems/ruby-2.2.3/bin/iruby:23:in `load'\u001b[0m",
      "\u001b[37m/home/wlasciciel/.rvm/gems/ruby-2.2.3/bin/iruby:23:in `<main>'\u001b[0m",
      "\u001b[37m/home/wlasciciel/.rvm/gems/ruby-2.2.3/bin/ruby_executable_hooks:15:in `eval'\u001b[0m",
      "\u001b[37m/home/wlasciciel/.rvm/gems/ruby-2.2.3/bin/ruby_executable_hooks:15:in `<main>'\u001b[0m"
     ]
    }
   ],
   "source": [
    "author = Author.find(10)"
   ]
  },
  {
   "cell_type": "markdown",
   "metadata": {},
   "source": [
    "Możemy zabezpieczyć się przed tą sytuacją, korzystają z innego wywołania `find_by_id`\n",
    "```ruby\n",
    "author = Author.find_by_id(10)\n",
    "p author\n",
    "```"
   ]
  },
  {
   "cell_type": "code",
   "execution_count": 185,
   "metadata": {
    "collapsed": false
   },
   "outputs": [
    {
     "name": "stdout",
     "output_type": "stream",
     "text": [
      "nil\n"
     ]
    }
   ],
   "source": [
    "author = Author.find_by_id(10)\n",
    "p author\n"
   ]
  },
  {
   "cell_type": "markdown",
   "metadata": {},
   "source": [
    "### Zadanie 2"
   ]
  },
  {
   "cell_type": "markdown",
   "metadata": {},
   "source": [
    "Próba odczytania pól takiego obiektu, również skończy się wyjątkiem. Co należy zrobić, żeby wypisać imię i nazwisko autora\n",
    "wyłącznie wtedy gdy autor istnieje w bazie? Zaimplementuj metodę `print_author`, która radzi sobie z tym problemem."
   ]
  },
  {
   "cell_type": "code",
   "execution_count": 186,
   "metadata": {
    "collapsed": false
   },
   "outputs": [
    {
     "name": "stdout",
     "output_type": "stream",
     "text": [
      "#<Author id: 1, name: \"Adam\", surname: \"Mickiewicz\", born: \"1798-12-24\", died: \"1855-11-26\", image_url: nil>\n",
      "nil\n"
     ]
    }
   ],
   "source": [
    "def print_author(id)\n",
    "  author = Author.find_by_id(id)\n",
    "  p author\n",
    "end\n",
    "\n",
    "# te linijki mają pozostać niezmienione\n",
    "print_author(1)\n",
    "print_author(10)"
   ]
  },
  {
   "cell_type": "markdown",
   "metadata": {},
   "source": [
    "### Update"
   ]
  },
  {
   "cell_type": "markdown",
   "metadata": {},
   "source": [
    "Modyfikowanie danych realizowane może być na kilka sposobów. W pierwszej kolejności możemy zmodyfikować atrybut obiektu i \n",
    "następnie zapisać go do bazy\n",
    "```ruby\n",
    "author = Author.find(1)\n",
    "puts author.surname\n",
    "author.surname = \"Mickiewiczowski\"\n",
    "author.save\n",
    "\n",
    "other_author = Author.find(1)\n",
    "puts other_author.surname\n",
    "```"
   ]
  },
  {
   "cell_type": "code",
   "execution_count": 33,
   "metadata": {
    "collapsed": false
   },
   "outputs": [
    {
     "name": "stdout",
     "output_type": "stream",
     "text": [
      "Mickiewicz\n",
      "Mickiewiczowski\n"
     ]
    }
   ],
   "source": [
    "author = Author.find(1)\n",
    "puts author.surname\n",
    "author.surname = \"Mickiewiczowski\"\n",
    "author.save\n",
    "\n",
    "other_author = Author.find(1)\n",
    "puts other_author.surname\n"
   ]
  },
  {
   "cell_type": "markdown",
   "metadata": {},
   "source": [
    "Można również skorzystać z metody `update_attributes`, która działa podobnie jak konstruktor, ale dane są od razu\n",
    "modyfikowane w bazie\n",
    "```ruby\n",
    "author = Author.find(1)\n",
    "author.update_attributes(name: \"Wojciech\")\n",
    "other_author = Author.find(1)\n",
    "puts other_author.name\n",
    "```"
   ]
  },
  {
   "cell_type": "markdown",
   "metadata": {},
   "source": [
    "### Zadanie 3"
   ]
  },
  {
   "cell_type": "markdown",
   "metadata": {},
   "source": [
    "Zmodyfikuj wszystkich autorów, tak by ich daty urodzenia i śmierci były poprawne. Popraw również imię i nazwisko Adama Mickiewicza.\n",
    "Aby wprowadzić datę skorzystaj z metody `Date.parse`."
   ]
  },
  {
   "cell_type": "code",
   "execution_count": 125,
   "metadata": {
    "collapsed": false
   },
   "outputs": [
    {
     "name": "stdout",
     "output_type": "stream",
     "text": [
      "#<Author id: 4, name: \"Juliusz\", surname: \"Słowacki\", born: \"1809-06-06\", died: \"1849-11-18\", image_url: nil>\n",
      "#<Author id: 4, name: \"Juliusz\", surname: \"Słowacki\", born: \"1809-06-06\", died: \"1849-11-18\", image_url: nil>\n"
     ]
    },
    {
     "data": {
      "text/plain": [
       "#<Author id: 4, name: \"Juliusz\", surname: \"Słowacki\", born: \"1809-06-06\", died: \"1849-11-18\", image_url: nil>"
      ]
     },
     "execution_count": 125,
     "metadata": {},
     "output_type": "execute_result"
    }
   ],
   "source": [
    "author = Author.find(4)\n",
    "author.update_attributes(born: Date.parse('June 6, 1809').to_s)\n",
    "author.update_attributes(died: Date.parse('November 18, 1849').to_s)\n",
    "other_author = Author.find(4)\n",
    "p other_author\n",
    "\n",
    "p Author.find(4)\n",
    "\n"
   ]
  },
  {
   "cell_type": "markdown",
   "metadata": {},
   "source": [
    "### Delete"
   ]
  },
  {
   "cell_type": "markdown",
   "metadata": {},
   "source": [
    "Usuwanie danych realizowane jest za pomocą wywołania `destroy`:\n",
    "```ruby\n",
    "author = Author.find(1)\n",
    "author.destroy\n",
    "```"
   ]
  },
  {
   "cell_type": "code",
   "execution_count": 180,
   "metadata": {
    "collapsed": false
   },
   "outputs": [
    {
     "data": {
      "text/plain": [
       "#<Author id: 2, name: \"Adam\", surname: \"Mickiewicz\", born: \"1772-12-24\", died: \"1855-11-26\", image_url: nil>"
      ]
     },
     "execution_count": 180,
     "metadata": {},
     "output_type": "execute_result"
    }
   ],
   "source": [
    "author = Author.find(2)\n",
    "author.destroy"
   ]
  },
  {
   "cell_type": "markdown",
   "metadata": {},
   "source": [
    "### Zadanie 4"
   ]
  },
  {
   "cell_type": "markdown",
   "metadata": {},
   "source": [
    "Ponieważ właśnie usunąłeś/ęłaś Adama Mickiewicza, ponownie utwórz odpowiadający mu rekord."
   ]
  },
  {
   "cell_type": "code",
   "execution_count": 158,
   "metadata": {
    "collapsed": false
   },
   "outputs": [
    {
     "ename": "ActiveRecord::RecordNotUnique",
     "evalue": "SQLite3::ConstraintException: UNIQUE constraint failed: authors.id: INSERT INTO \"authors\" (\"id\", \"name\", \"surname\", \"born\", \"died\") VALUES (?, ?, ?, ?, ?)",
     "output_type": "error",
     "traceback": [
      "\u001b[31mActiveRecord::RecordNotUnique\u001b[0m: SQLite3::ConstraintException: UNIQUE constraint failed: authors.id: INSERT INTO \"authors\" (\"id\", \"name\", \"surname\", \"born\", \"died\") VALUES (?, ?, ?, ?, ?)",
      "\u001b[37m/home/wlasciciel/.rvm/gems/ruby-2.2.3/gems/sqlite3-1.3.11/lib/sqlite3/statement.rb:108:in `step'\u001b[0m",
      "\u001b[37m/home/wlasciciel/.rvm/gems/ruby-2.2.3/gems/sqlite3-1.3.11/lib/sqlite3/statement.rb:108:in `block in each'\u001b[0m",
      "\u001b[37m/home/wlasciciel/.rvm/gems/ruby-2.2.3/gems/sqlite3-1.3.11/lib/sqlite3/statement.rb:107:in `loop'\u001b[0m",
      "\u001b[37m/home/wlasciciel/.rvm/gems/ruby-2.2.3/gems/sqlite3-1.3.11/lib/sqlite3/statement.rb:107:in `each'\u001b[0m",
      "\u001b[37m/home/wlasciciel/.rvm/gems/ruby-2.2.3/gems/activerecord-4.2.4/lib/active_record/connection_adapters/sqlite3_adapter.rb:314:in `to_a'\u001b[0m",
      "\u001b[37m/home/wlasciciel/.rvm/gems/ruby-2.2.3/gems/activerecord-4.2.4/lib/active_record/connection_adapters/sqlite3_adapter.rb:314:in `block in exec_query'\u001b[0m",
      "\u001b[37m/home/wlasciciel/.rvm/gems/ruby-2.2.3/gems/activerecord-4.2.4/lib/active_record/connection_adapters/abstract_adapter.rb:473:in `block in log'\u001b[0m",
      "\u001b[37m/home/wlasciciel/.rvm/gems/ruby-2.2.3/gems/activesupport-4.2.4/lib/active_support/notifications/instrumenter.rb:20:in `instrument'\u001b[0m",
      "\u001b[37m/home/wlasciciel/.rvm/gems/ruby-2.2.3/gems/activerecord-4.2.4/lib/active_record/connection_adapters/abstract_adapter.rb:467:in `log'\u001b[0m",
      "\u001b[37m/home/wlasciciel/.rvm/gems/ruby-2.2.3/gems/activerecord-4.2.4/lib/active_record/connection_adapters/sqlite3_adapter.rb:293:in `exec_query'\u001b[0m",
      "\u001b[37m/home/wlasciciel/.rvm/gems/ruby-2.2.3/gems/activerecord-4.2.4/lib/active_record/connection_adapters/abstract/database_statements.rb:76:in `exec_insert'\u001b[0m",
      "\u001b[37m/home/wlasciciel/.rvm/gems/ruby-2.2.3/gems/activerecord-4.2.4/lib/active_record/connection_adapters/abstract/database_statements.rb:108:in `insert'\u001b[0m",
      "\u001b[37m/home/wlasciciel/.rvm/gems/ruby-2.2.3/gems/activerecord-4.2.4/lib/active_record/connection_adapters/abstract/query_cache.rb:14:in `insert'\u001b[0m",
      "\u001b[37m/home/wlasciciel/.rvm/gems/ruby-2.2.3/gems/activerecord-4.2.4/lib/active_record/relation.rb:64:in `insert'\u001b[0m",
      "\u001b[37m/home/wlasciciel/.rvm/gems/ruby-2.2.3/gems/activerecord-4.2.4/lib/active_record/persistence.rb:524:in `_create_record'\u001b[0m",
      "\u001b[37m/home/wlasciciel/.rvm/gems/ruby-2.2.3/gems/activerecord-4.2.4/lib/active_record/counter_cache.rb:139:in `_create_record'\u001b[0m",
      "\u001b[37m/home/wlasciciel/.rvm/gems/ruby-2.2.3/gems/activerecord-4.2.4/lib/active_record/locking/optimistic.rb:75:in `_create_record'\u001b[0m",
      "\u001b[37m/home/wlasciciel/.rvm/gems/ruby-2.2.3/gems/activerecord-4.2.4/lib/active_record/attribute_methods/dirty.rb:132:in `_create_record'\u001b[0m",
      "\u001b[37m/home/wlasciciel/.rvm/gems/ruby-2.2.3/gems/activerecord-4.2.4/lib/active_record/callbacks.rb:306:in `block in _create_record'\u001b[0m",
      "\u001b[37m/home/wlasciciel/.rvm/gems/ruby-2.2.3/gems/activesupport-4.2.4/lib/active_support/callbacks.rb:117:in `call'\u001b[0m",
      "\u001b[37m/home/wlasciciel/.rvm/gems/ruby-2.2.3/gems/activesupport-4.2.4/lib/active_support/callbacks.rb:117:in `call'\u001b[0m",
      "\u001b[37m/home/wlasciciel/.rvm/gems/ruby-2.2.3/gems/activesupport-4.2.4/lib/active_support/callbacks.rb:555:in `block (2 levels) in compile'\u001b[0m",
      "\u001b[37m/home/wlasciciel/.rvm/gems/ruby-2.2.3/gems/activesupport-4.2.4/lib/active_support/callbacks.rb:505:in `call'\u001b[0m",
      "\u001b[37m/home/wlasciciel/.rvm/gems/ruby-2.2.3/gems/activesupport-4.2.4/lib/active_support/callbacks.rb:505:in `call'\u001b[0m",
      "\u001b[37m/home/wlasciciel/.rvm/gems/ruby-2.2.3/gems/activesupport-4.2.4/lib/active_support/callbacks.rb:92:in `__run_callbacks__'\u001b[0m",
      "\u001b[37m/home/wlasciciel/.rvm/gems/ruby-2.2.3/gems/activesupport-4.2.4/lib/active_support/callbacks.rb:778:in `_run_create_callbacks'\u001b[0m",
      "\u001b[37m/home/wlasciciel/.rvm/gems/ruby-2.2.3/gems/activerecord-4.2.4/lib/active_record/callbacks.rb:306:in `_create_record'\u001b[0m",
      "\u001b[37m/home/wlasciciel/.rvm/gems/ruby-2.2.3/gems/activerecord-4.2.4/lib/active_record/timestamp.rb:57:in `_create_record'\u001b[0m",
      "\u001b[37m/home/wlasciciel/.rvm/gems/ruby-2.2.3/gems/activerecord-4.2.4/lib/active_record/persistence.rb:504:in `create_or_update'\u001b[0m",
      "\u001b[37m/home/wlasciciel/.rvm/gems/ruby-2.2.3/gems/activerecord-4.2.4/lib/active_record/callbacks.rb:302:in `block in create_or_update'\u001b[0m",
      "\u001b[37m/home/wlasciciel/.rvm/gems/ruby-2.2.3/gems/activesupport-4.2.4/lib/active_support/callbacks.rb:117:in `call'\u001b[0m",
      "\u001b[37m/home/wlasciciel/.rvm/gems/ruby-2.2.3/gems/activesupport-4.2.4/lib/active_support/callbacks.rb:117:in `call'\u001b[0m",
      "\u001b[37m/home/wlasciciel/.rvm/gems/ruby-2.2.3/gems/activesupport-4.2.4/lib/active_support/callbacks.rb:555:in `block (2 levels) in compile'\u001b[0m",
      "\u001b[37m/home/wlasciciel/.rvm/gems/ruby-2.2.3/gems/activesupport-4.2.4/lib/active_support/callbacks.rb:505:in `call'\u001b[0m",
      "\u001b[37m/home/wlasciciel/.rvm/gems/ruby-2.2.3/gems/activesupport-4.2.4/lib/active_support/callbacks.rb:505:in `call'\u001b[0m",
      "\u001b[37m/home/wlasciciel/.rvm/gems/ruby-2.2.3/gems/activesupport-4.2.4/lib/active_support/callbacks.rb:92:in `__run_callbacks__'\u001b[0m",
      "\u001b[37m/home/wlasciciel/.rvm/gems/ruby-2.2.3/gems/activesupport-4.2.4/lib/active_support/callbacks.rb:778:in `_run_save_callbacks'\u001b[0m",
      "\u001b[37m/home/wlasciciel/.rvm/gems/ruby-2.2.3/gems/activerecord-4.2.4/lib/active_record/callbacks.rb:302:in `create_or_update'\u001b[0m",
      "\u001b[37m/home/wlasciciel/.rvm/gems/ruby-2.2.3/gems/activerecord-4.2.4/lib/active_record/persistence.rb:120:in `save'\u001b[0m",
      "\u001b[37m/home/wlasciciel/.rvm/gems/ruby-2.2.3/gems/activerecord-4.2.4/lib/active_record/validations.rb:37:in `save'\u001b[0m",
      "\u001b[37m/home/wlasciciel/.rvm/gems/ruby-2.2.3/gems/activerecord-4.2.4/lib/active_record/attribute_methods/dirty.rb:21:in `save'\u001b[0m",
      "\u001b[37m/home/wlasciciel/.rvm/gems/ruby-2.2.3/gems/activerecord-4.2.4/lib/active_record/transactions.rb:286:in `block (2 levels) in save'\u001b[0m",
      "\u001b[37m/home/wlasciciel/.rvm/gems/ruby-2.2.3/gems/activerecord-4.2.4/lib/active_record/transactions.rb:351:in `block in with_transaction_returning_status'\u001b[0m",
      "\u001b[37m/home/wlasciciel/.rvm/gems/ruby-2.2.3/gems/activerecord-4.2.4/lib/active_record/connection_adapters/abstract/database_statements.rb:213:in `block in transaction'\u001b[0m",
      "\u001b[37m/home/wlasciciel/.rvm/gems/ruby-2.2.3/gems/activerecord-4.2.4/lib/active_record/connection_adapters/abstract/transaction.rb:184:in `within_new_transaction'\u001b[0m",
      "\u001b[37m/home/wlasciciel/.rvm/gems/ruby-2.2.3/gems/activerecord-4.2.4/lib/active_record/connection_adapters/abstract/database_statements.rb:213:in `transaction'\u001b[0m",
      "\u001b[37m/home/wlasciciel/.rvm/gems/ruby-2.2.3/gems/activerecord-4.2.4/lib/active_record/transactions.rb:220:in `transaction'\u001b[0m",
      "\u001b[37m/home/wlasciciel/.rvm/gems/ruby-2.2.3/gems/activerecord-4.2.4/lib/active_record/transactions.rb:348:in `with_transaction_returning_status'\u001b[0m",
      "\u001b[37m/home/wlasciciel/.rvm/gems/ruby-2.2.3/gems/activerecord-4.2.4/lib/active_record/transactions.rb:286:in `block in save'\u001b[0m",
      "\u001b[37m/home/wlasciciel/.rvm/gems/ruby-2.2.3/gems/activerecord-4.2.4/lib/active_record/transactions.rb:301:in `rollback_active_record_state!'\u001b[0m",
      "\u001b[37m/home/wlasciciel/.rvm/gems/ruby-2.2.3/gems/activerecord-4.2.4/lib/active_record/transactions.rb:285:in `save'\u001b[0m",
      "\u001b[37m<main>:1:in `<main>'\u001b[0m",
      "\u001b[37m/home/wlasciciel/.rvm/gems/ruby-2.2.3/gems/iruby-0.2.7/lib/iruby/backend.rb:44:in `eval'\u001b[0m",
      "\u001b[37m/home/wlasciciel/.rvm/gems/ruby-2.2.3/gems/iruby-0.2.7/lib/iruby/backend.rb:44:in `eval'\u001b[0m",
      "\u001b[37m/home/wlasciciel/.rvm/gems/ruby-2.2.3/gems/iruby-0.2.7/lib/iruby/backend.rb:12:in `eval'\u001b[0m",
      "\u001b[37m/home/wlasciciel/.rvm/gems/ruby-2.2.3/gems/iruby-0.2.7/lib/iruby/kernel.rb:87:in `execute_request'\u001b[0m",
      "\u001b[37m/home/wlasciciel/.rvm/gems/ruby-2.2.3/gems/iruby-0.2.7/lib/iruby/kernel.rb:47:in `dispatch'\u001b[0m",
      "\u001b[37m/home/wlasciciel/.rvm/gems/ruby-2.2.3/gems/iruby-0.2.7/lib/iruby/kernel.rb:37:in `run'\u001b[0m",
      "\u001b[37m/home/wlasciciel/.rvm/gems/ruby-2.2.3/gems/iruby-0.2.7/lib/iruby/command.rb:70:in `run_kernel'\u001b[0m",
      "\u001b[37m/home/wlasciciel/.rvm/gems/ruby-2.2.3/gems/iruby-0.2.7/lib/iruby/command.rb:34:in `run'\u001b[0m",
      "\u001b[37m/home/wlasciciel/.rvm/gems/ruby-2.2.3/gems/iruby-0.2.7/bin/iruby:5:in `<top (required)>'\u001b[0m",
      "\u001b[37m/home/wlasciciel/.rvm/gems/ruby-2.2.3/bin/iruby:23:in `load'\u001b[0m",
      "\u001b[37m/home/wlasciciel/.rvm/gems/ruby-2.2.3/bin/iruby:23:in `<main>'\u001b[0m",
      "\u001b[37m/home/wlasciciel/.rvm/gems/ruby-2.2.3/bin/ruby_executable_hooks:15:in `eval'\u001b[0m",
      "\u001b[37m/home/wlasciciel/.rvm/gems/ruby-2.2.3/bin/ruby_executable_hooks:15:in `<main>'\u001b[0m"
     ]
    }
   ],
   "source": [
    "author = Author.new(id: 2, name: \"Adam\", surname: \"Mickiewicz\", born: Date.parse('December 24, 1772').to_s, died: Date.parse('November 26, 1855').to_s) \n",
    "author.save\n"
   ]
  },
  {
   "cell_type": "markdown",
   "metadata": {},
   "source": [
    "## Język zapytań"
   ]
  },
  {
   "cell_type": "markdown",
   "metadata": {},
   "source": [
    "## `find`, `first`, `last`, `all`"
   ]
  },
  {
   "cell_type": "markdown",
   "metadata": {},
   "source": [
    "Metoda `find` pozwala nie tylko pobierać pojedynczy obiekt z bazy, ale również kilka obiektów na raz:\n",
    "```ruby\n",
    "authors = Author.find(2,3,4)\n",
    "authors.each do |author|\n",
    "  puts \"#{author.name} #{author.surname}\"\n",
    "end\n",
    "```"
   ]
  },
  {
   "cell_type": "code",
   "execution_count": 138,
   "metadata": {
    "collapsed": false
   },
   "outputs": [
    {
     "name": "stdout",
     "output_type": "stream",
     "text": [
      "Adam Mickiewicz\n",
      "Eliza Orzeszkowa\n",
      "Juliusz Słowacki\n"
     ]
    },
    {
     "data": {
      "text/plain": [
       "[#<Author id: 2, name: \"Adam\", surname: \"Mickiewicz\", born: \"1772-12-24\", died: \"1855-11-26\", image_url: nil>, #<Author id: 3, name: \"Eliza\", surname: \"Orzeszkowa\", born: \"1841-06-06\", died: \"1910-11-18\", image_url: nil>, #<Author id: 4, name: \"Juliusz\", surname: \"Słowacki\", born: \"1809-06-06\", died: \"1849-11-18\", image_url: nil>]"
      ]
     },
     "execution_count": 138,
     "metadata": {},
     "output_type": "execute_result"
    }
   ],
   "source": [
    "authors = Author.find(2,3,4)\n",
    "authors.each do |author|\n",
    "  puts \"#{author.name} #{author.surname}\"\n",
    "end\n"
   ]
  },
  {
   "cell_type": "markdown",
   "metadata": {},
   "source": [
    "Metody `first` oraz `last` zwracają odpowiednio *pierwszy* i *ostatni* rekord w bazie. W domyślnej konfiguracji kolejność\n",
    "ta będzie odpowiadała czasowi ich utworzenia.\n",
    "```ruby\n",
    "puts Author.first.surname\n",
    "puts Author.last.surname\n",
    "```"
   ]
  },
  {
   "cell_type": "code",
   "execution_count": 139,
   "metadata": {
    "collapsed": false
   },
   "outputs": [
    {
     "name": "stdout",
     "output_type": "stream",
     "text": [
      "Mickiewicz\n",
      "Sienkiewicz\n"
     ]
    }
   ],
   "source": [
    "puts Author.first.surname\n",
    "puts Author.last.surname\n"
   ]
  },
  {
   "cell_type": "markdown",
   "metadata": {},
   "source": [
    "Natomiast metoda `all` zwraca kolekcję obejmującą wszystkie rekordy w bazie danych:\n",
    "```ruby\n",
    "authors = Author.all\n",
    "authors.each do |author|\n",
    "  puts \"#{author.name} #{author.surname}\"\n",
    "end\n",
    "```"
   ]
  },
  {
   "cell_type": "code",
   "execution_count": 140,
   "metadata": {
    "collapsed": false
   },
   "outputs": [
    {
     "name": "stdout",
     "output_type": "stream",
     "text": [
      "Adam Mickiewicz\n",
      "Adam Mickiewicz\n",
      "Eliza Orzeszkowa\n",
      "Juliusz Słowacki\n",
      "Henryk Sienkiewicz\n"
     ]
    },
    {
     "data": {
      "text/plain": [
       "[#<Author id: 1, name: \"Adam\", surname: \"Mickiewicz\", born: \"1798-12-24\", died: \"1855-11-26\", image_url: nil>, #<Author id: 2, name: \"Adam\", surname: \"Mickiewicz\", born: \"1772-12-24\", died: \"1855-11-26\", image_url: nil>, #<Author id: 3, name: \"Eliza\", surname: \"Orzeszkowa\", born: \"1841-06-06\", died: \"1910-11-18\", image_url: nil>, #<Author id: 4, name: \"Juliusz\", surname: \"Słowacki\", born: \"1809-06-06\", died: \"1849-11-18\", image_url: nil>, #<Author id: 5, name: \"Henryk\", surname: \"Sienkiewicz\", born: \"1846-06-06\", died: \"1916-11-18\", image_url: nil>]"
      ]
     },
     "execution_count": 140,
     "metadata": {},
     "output_type": "execute_result"
    }
   ],
   "source": [
    "authors = Author.all\n",
    "authors.each do |author|\n",
    "  puts \"#{author.name} #{author.surname}\"\n",
    "end\n"
   ]
  },
  {
   "cell_type": "markdown",
   "metadata": {},
   "source": [
    "### Zadanie 5"
   ]
  },
  {
   "cell_type": "markdown",
   "metadata": {},
   "source": [
    "Wypisz wszystkich autorów znajdujących się w bazie wraz z ich datami urodzenia i śmierci. Postaraj się sformatować daty,\n",
    "tak by obejmowały tylko dzień, miesiąc i rok - w tej kolejności. Służy do tego metoda `strftime`."
   ]
  },
  {
   "cell_type": "code",
   "execution_count": 147,
   "metadata": {
    "collapsed": false
   },
   "outputs": [
    {
     "name": "stdout",
     "output_type": "stream",
     "text": [
      "Adam Mickiewicz     born: 24-12-1798     died: 26-11-1855\n",
      "Adam Mickiewicz     born: 24-12-1772     died: 26-11-1855\n",
      "Eliza Orzeszkowa     born: 06-06-1841     died: 18-11-1910\n",
      "Juliusz Słowacki     born: 06-06-1809     died: 18-11-1849\n",
      "Henryk Sienkiewicz     born: 06-06-1846     died: 18-11-1916\n"
     ]
    },
    {
     "data": {
      "text/plain": [
       "[#<Author id: 1, name: \"Adam\", surname: \"Mickiewicz\", born: \"1798-12-24\", died: \"1855-11-26\", image_url: nil>, #<Author id: 2, name: \"Adam\", surname: \"Mickiewicz\", born: \"1772-12-24\", died: \"1855-11-26\", image_url: nil>, #<Author id: 3, name: \"Eliza\", surname: \"Orzeszkowa\", born: \"1841-06-06\", died: \"1910-11-18\", image_url: nil>, #<Author id: 4, name: \"Juliusz\", surname: \"Słowacki\", born: \"1809-06-06\", died: \"1849-11-18\", image_url: nil>, #<Author id: 5, name: \"Henryk\", surname: \"Sienkiewicz\", born: \"1846-06-06\", died: \"1916-11-18\", image_url: nil>]"
      ]
     },
     "execution_count": 147,
     "metadata": {},
     "output_type": "execute_result"
    }
   ],
   "source": [
    "authors = Author.all\n",
    "authors.each do |author|\n",
    "  puts \"#{author.name} #{author.surname}     born: #{author.born.strftime(\"%d-%m-%Y\")}     died: #{author.died.strftime(\"%d-%m-%Y\")}\"\n",
    "end"
   ]
  },
  {
   "cell_type": "markdown",
   "metadata": {},
   "source": [
    "### `find_by`"
   ]
  },
  {
   "cell_type": "markdown",
   "metadata": {},
   "source": [
    "AR definiuje również metody pozwalające na wyszukiwanie rekordów na podstawie wartości atrybutów. Najprostsza z nich to `find_by`. Zwraca rekord, które posiada wartość określoną w zapytaniu:\n",
    "```ruby\n",
    "author = Author.find_by_name(\"Adam\")\n",
    "puts author.surname\n",
    "```"
   ]
  },
  {
   "cell_type": "code",
   "execution_count": 148,
   "metadata": {
    "collapsed": false
   },
   "outputs": [
    {
     "name": "stdout",
     "output_type": "stream",
     "text": [
      "Mickiewicz\n"
     ]
    }
   ],
   "source": [
    "author = Author.find_by_name(\"Adam\")\n",
    "puts author.surname\n"
   ]
  },
  {
   "cell_type": "markdown",
   "metadata": {},
   "source": [
    "### `where`"
   ]
  },
  {
   "cell_type": "markdown",
   "metadata": {},
   "source": [
    "Metoda `where` odpowiada klauzuli `where` z języka SQL. Podstawowa różnica polega na tym, że wartości poszczególnych pól określamy w postaci par klucz-wartość. Jeśli chcemy uzyskać pojedynczy wynik dodajemy metodę `first` lub `last`:\n",
    "```ruby\n",
    "author = Author.where(name: \"Eliza\").first\n",
    "puts author.surname\n",
    "```"
   ]
  },
  {
   "cell_type": "code",
   "execution_count": 151,
   "metadata": {
    "collapsed": false
   },
   "outputs": [
    {
     "name": "stdout",
     "output_type": "stream",
     "text": [
      "Orzeszkowa\n"
     ]
    }
   ],
   "source": [
    "author = Author.where(name: \"Eliza\").first\n",
    "puts author.surname\n"
   ]
  },
  {
   "cell_type": "markdown",
   "metadata": {},
   "source": [
    "Metoda ta ma jednak znacznie większe możliwości - można np. podawać zakresy wartości, jako zakresy Rubiego:\n",
    "```ruby\n",
    "authors = Author.where(born: (Date.parse(\"1780-1-1\")..Date.parse(\"1800-12-31\"))\n",
    "authors.each do |author|\n",
    "  puts \"#{author.name} #{author.surname} #{author.born.strftime(\"%d-%m-%Y\")}\"\n",
    "end\n",
    "```"
   ]
  },
  {
   "cell_type": "code",
   "execution_count": 152,
   "metadata": {
    "collapsed": false
   },
   "outputs": [
    {
     "name": "stdout",
     "output_type": "stream",
     "text": [
      "Adam Mickiewicz 24-12-1798\n"
     ]
    },
    {
     "data": {
      "text/plain": [
       "[#<Author id: 1, name: \"Adam\", surname: \"Mickiewicz\", born: \"1798-12-24\", died: \"1855-11-26\", image_url: nil>]"
      ]
     },
     "execution_count": 152,
     "metadata": {},
     "output_type": "execute_result"
    }
   ],
   "source": [
    "authors = Author.where(born: (Date.parse(\"1780-1-1\")..Date.parse(\"1800-12-31\")))\n",
    "authors.each do |author|\n",
    "  puts \"#{author.name} #{author.surname} #{author.born.strftime(\"%d-%m-%Y\")}\"\n",
    "end\n"
   ]
  },
  {
   "cell_type": "markdown",
   "metadata": {},
   "source": [
    "Metodę `where` można wywoływać wielokrotnie. Wtedy wyniki są łączone za pomocą operatora koniunkcji. Jeśli chcemy\n",
    "użyć innego operatora (np. `OR` lub `LIKE`), konieczne jest użycie nieco innej składni:\n",
    "```ruby\n",
    "authors = Author.where(\"name LIKE 'A%'\")\n",
    "authors.each do |author|\n",
    "  puts author.surname\n",
    "end\n",
    "```  "
   ]
  },
  {
   "cell_type": "code",
   "execution_count": 153,
   "metadata": {
    "collapsed": false
   },
   "outputs": [
    {
     "name": "stdout",
     "output_type": "stream",
     "text": [
      "Mickiewicz\n",
      "Mickiewicz\n"
     ]
    },
    {
     "data": {
      "text/plain": [
       "[#<Author id: 1, name: \"Adam\", surname: \"Mickiewicz\", born: \"1798-12-24\", died: \"1855-11-26\", image_url: nil>, #<Author id: 2, name: \"Adam\", surname: \"Mickiewicz\", born: \"1772-12-24\", died: \"1855-11-26\", image_url: nil>]"
      ]
     },
     "execution_count": 153,
     "metadata": {},
     "output_type": "execute_result"
    }
   ],
   "source": [
    "authors = Author.where(\"name LIKE 'A%'\")\n",
    "authors.each do |author|\n",
    "  puts author.surname\n",
    "end\n"
   ]
  },
  {
   "cell_type": "markdown",
   "metadata": {},
   "source": [
    "Jeśli dane w napisie przekazanym do metody `where` pochodzą od użytkownika aplikacji, to narażamy się na atak SQL-injection.\n",
    "Aby go unikąć, wartość podaną przez użytkownika przekazujemy jako osobny argument, np.\n",
    "```ruby\n",
    "name = \"Adam\"\n",
    "authors = Author.where(\"name = ?\",name)\n",
    "authors.each do |author|\n",
    "  puts author.surname\n",
    "end\n",
    "```"
   ]
  },
  {
   "cell_type": "code",
   "execution_count": 154,
   "metadata": {
    "collapsed": false
   },
   "outputs": [
    {
     "name": "stdout",
     "output_type": "stream",
     "text": [
      "Mickiewicz\n",
      "Mickiewicz\n"
     ]
    },
    {
     "data": {
      "text/plain": [
       "[#<Author id: 1, name: \"Adam\", surname: \"Mickiewicz\", born: \"1798-12-24\", died: \"1855-11-26\", image_url: nil>, #<Author id: 2, name: \"Adam\", surname: \"Mickiewicz\", born: \"1772-12-24\", died: \"1855-11-26\", image_url: nil>]"
      ]
     },
     "execution_count": 154,
     "metadata": {},
     "output_type": "execute_result"
    }
   ],
   "source": [
    "name = \"Adam\"\n",
    "authors = Author.where(\"name = ?\",name)\n",
    "authors.each do |author|\n",
    "  puts author.surname\n",
    "end\n"
   ]
  },
  {
   "cell_type": "markdown",
   "metadata": {},
   "source": [
    "W tej sytuacji AR sam zadba o odpowiednią konwersję znaków \"niebezpiecznych\"."
   ]
  },
  {
   "cell_type": "markdown",
   "metadata": {},
   "source": [
    "### Zadanie 6"
   ]
  },
  {
   "cell_type": "markdown",
   "metadata": {},
   "source": [
    "Znajdź i wypisz wszystkich autorów, którzy zmarli między rokiem 1800 a 1900."
   ]
  },
  {
   "cell_type": "code",
   "execution_count": 166,
   "metadata": {
    "collapsed": false
   },
   "outputs": [
    {
     "name": "stdout",
     "output_type": "stream",
     "text": [
      "Adam Mickiewicz 24-12-1798\n",
      "Adam Mickiewicz 24-12-1772\n",
      "Juliusz Słowacki 06-06-1809\n"
     ]
    },
    {
     "data": {
      "text/plain": [
       "[#<Author id: 1, name: \"Adam\", surname: \"Mickiewicz\", born: \"1798-12-24\", died: \"1855-11-26\", image_url: nil>, #<Author id: 2, name: \"Adam\", surname: \"Mickiewicz\", born: \"1772-12-24\", died: \"1855-11-26\", image_url: nil>, #<Author id: 4, name: \"Juliusz\", surname: \"Słowacki\", born: \"1809-06-06\", died: \"1849-11-18\", image_url: nil>]"
      ]
     },
     "execution_count": 166,
     "metadata": {},
     "output_type": "execute_result"
    }
   ],
   "source": [
    "authors = Author.where(died: (Date.parse(\"1800-1-1\")..Date.parse(\"1900-12-31\")))\n",
    "authors.each do |author|\n",
    "  puts \"#{author.name} #{author.surname} #{author.born.strftime(\"%d-%m-%Y\")}\"\n",
    "end"
   ]
  },
  {
   "cell_type": "markdown",
   "metadata": {},
   "source": [
    "### `order`"
   ]
  },
  {
   "cell_type": "markdown",
   "metadata": {},
   "source": [
    "Do określania kolejności wyników służy metoda `order`. Działa ona analogicznie do klauzuli `ORDER` w języku SQL.\n",
    "```ruby\n",
    "authors = Author.order(:born)\n",
    "authors.each do |author|\n",
    "  puts \"#{author.name} #{author.surname} #{author.born}\"\n",
    "end\n",
    "```"
   ]
  },
  {
   "cell_type": "code",
   "execution_count": 167,
   "metadata": {
    "collapsed": false
   },
   "outputs": [
    {
     "name": "stdout",
     "output_type": "stream",
     "text": [
      "Adam Mickiewicz 1772-12-24\n",
      "Adam Mickiewicz 1798-12-24\n",
      "Juliusz Słowacki 1809-06-06\n",
      "Eliza Orzeszkowa 1841-06-06\n",
      "Henryk Sienkiewicz 1846-06-06\n"
     ]
    },
    {
     "data": {
      "text/plain": [
       "[#<Author id: 2, name: \"Adam\", surname: \"Mickiewicz\", born: \"1772-12-24\", died: \"1855-11-26\", image_url: nil>, #<Author id: 1, name: \"Adam\", surname: \"Mickiewicz\", born: \"1798-12-24\", died: \"1855-11-26\", image_url: nil>, #<Author id: 4, name: \"Juliusz\", surname: \"Słowacki\", born: \"1809-06-06\", died: \"1849-11-18\", image_url: nil>, #<Author id: 3, name: \"Eliza\", surname: \"Orzeszkowa\", born: \"1841-06-06\", died: \"1910-11-18\", image_url: nil>, #<Author id: 5, name: \"Henryk\", surname: \"Sienkiewicz\", born: \"1846-06-06\", died: \"1916-11-18\", image_url: nil>]"
      ]
     },
     "execution_count": 167,
     "metadata": {},
     "output_type": "execute_result"
    }
   ],
   "source": [
    "authors = Author.order(:born)\n",
    "authors.each do |author|\n",
    "  puts \"#{author.name} #{author.surname} #{author.born}\"\n",
    "end\n"
   ]
  },
  {
   "cell_type": "markdown",
   "metadata": {},
   "source": [
    "Metoda ta często jest łączona z wywołaniami `first` i `last`\n",
    "```ruby\n",
    "author = Author.order(:born).last\n",
    "puts \"#{author.name} #{author.surname} #{author.born}\"\n",
    "```"
   ]
  },
  {
   "cell_type": "markdown",
   "metadata": {},
   "source": [
    "### Zadanie 7"
   ]
  },
  {
   "cell_type": "markdown",
   "metadata": {},
   "source": [
    "Znajdź autora, który zmarł jako ostatni."
   ]
  },
  {
   "cell_type": "code",
   "execution_count": 170,
   "metadata": {
    "collapsed": false
   },
   "outputs": [
    {
     "name": "stdout",
     "output_type": "stream",
     "text": [
      "Henryk Sienkiewicz 1916-11-18\n"
     ]
    }
   ],
   "source": [
    "author = Author.order(:died).last\n",
    "puts \"#{author.name} #{author.surname} #{author.died}\"\n"
   ]
  },
  {
   "cell_type": "markdown",
   "metadata": {},
   "source": [
    "### `limit` i `offset`"
   ]
  },
  {
   "cell_type": "markdown",
   "metadata": {},
   "source": [
    "Metody `limit` i `offset` działają analogicznie jak ich odpowiedniki w SQL:\n",
    "```ruby\n",
    "Author.limit(2).each do |author|\n",
    "  puts \"#{author.name} #{author.surname} #{author.born}\"\n",
    "end\n",
    "```"
   ]
  },
  {
   "cell_type": "code",
   "execution_count": 171,
   "metadata": {
    "collapsed": false
   },
   "outputs": [
    {
     "name": "stdout",
     "output_type": "stream",
     "text": [
      "Adam Mickiewicz 1798-12-24\n",
      "Adam Mickiewicz 1772-12-24\n"
     ]
    },
    {
     "data": {
      "text/plain": [
       "[#<Author id: 1, name: \"Adam\", surname: \"Mickiewicz\", born: \"1798-12-24\", died: \"1855-11-26\", image_url: nil>, #<Author id: 2, name: \"Adam\", surname: \"Mickiewicz\", born: \"1772-12-24\", died: \"1855-11-26\", image_url: nil>]"
      ]
     },
     "execution_count": 171,
     "metadata": {},
     "output_type": "execute_result"
    }
   ],
   "source": [
    "Author.limit(2).each do |author|\n",
    "  puts \"#{author.name} #{author.surname} #{author.born}\"\n",
    "end\n"
   ]
  },
  {
   "cell_type": "markdown",
   "metadata": {},
   "source": [
    "```ruby\n",
    "Author.offset(2).each do |author|\n",
    "  puts \"#{author.name} #{author.surname} #{author.born}\"\n",
    "end\n",
    "```"
   ]
  },
  {
   "cell_type": "code",
   "execution_count": 172,
   "metadata": {
    "collapsed": false
   },
   "outputs": [
    {
     "name": "stdout",
     "output_type": "stream",
     "text": [
      "Eliza Orzeszkowa 1841-06-06\n",
      "Juliusz Słowacki 1809-06-06\n",
      "Henryk Sienkiewicz 1846-06-06\n"
     ]
    },
    {
     "data": {
      "text/plain": [
       "[#<Author id: 3, name: \"Eliza\", surname: \"Orzeszkowa\", born: \"1841-06-06\", died: \"1910-11-18\", image_url: nil>, #<Author id: 4, name: \"Juliusz\", surname: \"Słowacki\", born: \"1809-06-06\", died: \"1849-11-18\", image_url: nil>, #<Author id: 5, name: \"Henryk\", surname: \"Sienkiewicz\", born: \"1846-06-06\", died: \"1916-11-18\", image_url: nil>]"
      ]
     },
     "execution_count": 172,
     "metadata": {},
     "output_type": "execute_result"
    }
   ],
   "source": [
    "Author.offset(2).each do |author|\n",
    "  puts \"#{author.name} #{author.surname} #{author.born}\"\n",
    "end\n",
    "\n"
   ]
  },
  {
   "cell_type": "markdown",
   "metadata": {},
   "source": [
    "Warto jednak pamiętać, żeby stosując je określić pożądek rekordów."
   ]
  },
  {
   "cell_type": "markdown",
   "metadata": {},
   "source": [
    "### Zadanie 8"
   ]
  },
  {
   "cell_type": "markdown",
   "metadata": {},
   "source": [
    "Znajdź i wypisz 3 autorów, którzy zmarli jako pierwsi."
   ]
  },
  {
   "cell_type": "code",
   "execution_count": 181,
   "metadata": {
    "collapsed": false
   },
   "outputs": [
    {
     "name": "stdout",
     "output_type": "stream",
     "text": [
      "Adam Mickiewicz 1855-11-26\n",
      "Eliza Orzeszkowa 1910-11-18\n",
      "Juliusz Słowacki 1849-11-18\n"
     ]
    },
    {
     "data": {
      "text/plain": [
       "[#<Author id: 1, name: \"Adam\", surname: \"Mickiewicz\", born: \"1798-12-24\", died: \"1855-11-26\", image_url: nil>, #<Author id: 3, name: \"Eliza\", surname: \"Orzeszkowa\", born: \"1841-06-06\", died: \"1910-11-18\", image_url: nil>, #<Author id: 4, name: \"Juliusz\", surname: \"Słowacki\", born: \"1809-06-06\", died: \"1849-11-18\", image_url: nil>]"
      ]
     },
     "execution_count": 181,
     "metadata": {},
     "output_type": "execute_result"
    }
   ],
   "source": [
    "Author.limit(3).each do |author|\n",
    "  puts \"#{author.name} #{author.surname} #{author.died}\"\n",
    "end"
   ]
  }
 ],
 "metadata": {
  "kernelspec": {
   "display_name": "Ruby 2.2.3",
   "language": "ruby",
   "name": "ruby"
  },
  "language_info": {
   "file_extension": "rb",
   "mimetype": "application/x-ruby",
   "name": "ruby",
   "version": "2.2.3"
  }
 },
 "nbformat": 4,
 "nbformat_minor": 0
}
